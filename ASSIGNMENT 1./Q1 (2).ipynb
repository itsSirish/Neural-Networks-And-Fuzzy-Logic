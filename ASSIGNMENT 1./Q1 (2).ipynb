{
  "cells": [
    {
      "cell_type": "markdown",
      "source": [
        "**Q1**"
      ],
      "metadata": {
        "id": "u2bVmqrPpkGC"
      },
      "id": "u2bVmqrPpkGC"
    },
    {
      "cell_type": "markdown",
      "source": [
        "MOUNTING THE DRIVE"
      ],
      "metadata": {
        "id": "DbUwwYv-S4MS"
      },
      "id": "DbUwwYv-S4MS"
    },
    {
      "cell_type": "code",
      "source": [
        "from google.colab import drive\n",
        "drive.mount('/content/drive')"
      ],
      "metadata": {
        "colab": {
          "base_uri": "https://localhost:8080/",
          "height": 0
        },
        "id": "qRub3KgnwxN2",
        "outputId": "caff9dfd-8c6e-44db-ddcf-60605053c9f7"
      },
      "id": "qRub3KgnwxN2",
      "execution_count": 1,
      "outputs": [
        {
          "output_type": "stream",
          "name": "stdout",
          "text": [
            "Mounted at /content/drive\n"
          ]
        }
      ]
    },
    {
      "cell_type": "markdown",
      "source": [
        "importing libraries"
      ],
      "metadata": {
        "id": "sFwN7vWRM3Vt"
      },
      "id": "sFwN7vWRM3Vt"
    },
    {
      "cell_type": "code",
      "execution_count": 2,
      "id": "6ec5b823",
      "metadata": {
        "id": "6ec5b823"
      },
      "outputs": [],
      "source": [
        "import pandas as pd\n",
        "import math\n",
        "import numpy as np\n",
        "import matplotlib.pyplot as plt\n",
        "import sklearn"
      ]
    },
    {
      "cell_type": "markdown",
      "source": [
        "Defining Cost Functions"
      ],
      "metadata": {
        "id": "C-ZpsMvaM6ic"
      },
      "id": "C-ZpsMvaM6ic"
    },
    {
      "cell_type": "code",
      "execution_count": 3,
      "id": "0a23dffb",
      "metadata": {
        "id": "0a23dffb"
      },
      "outputs": [],
      "source": [
        "def cost_function_l2(X,y,w,lamb):\n",
        "\n",
        "    hypothesis = np.dot(X,w.T)\n",
        "    #J = (1/(2*len(y)))*np.sum((hypothesis-y)**2)\n",
        "    J= (1/(2*len(y)))*np.sum((hypothesis-y)**2) + (lamb/2)*np.sum(w**2)\n",
        "    return J"
      ]
    },
    {
      "cell_type": "code",
      "execution_count": 4,
      "id": "9bdc56b2",
      "metadata": {
        "id": "9bdc56b2"
      },
      "outputs": [],
      "source": [
        "def cost_function_l1(X,y,w,lamb):\n",
        "    w=w.ravel()\n",
        "    hypothesis = np.dot(X,np.transpose(w))\n",
        "    #J = (1/(2*len(y)))*np.sum((hypothesis-y)**2)\n",
        "    J= (1/(2*len(y)))*np.sum((hypothesis-y)**2) + (lamb/2)*np.sum(abs(w))\n",
        "    return J"
      ]
    },
    {
      "cell_type": "code",
      "execution_count": 5,
      "id": "7f75d26f",
      "metadata": {
        "id": "7f75d26f"
      },
      "outputs": [],
      "source": [
        "def cost_function(X,y,w):\n",
        "\n",
        "    hypothesis = np.dot(X,w.T)\n",
        "    J = (1/(2*len(y)))*np.sum((hypothesis-y)**2)\n",
        "#     J= (1/(2*len(y)))*np.sum((hypothesis-y)**2) + (lamb/2)*np.sum(w**2)\n",
        "    return J"
      ]
    },
    {
      "cell_type": "markdown",
      "source": [
        "Defining gradient descent functions"
      ],
      "metadata": {
        "id": "JM4C6JQwRtXX"
      },
      "id": "JM4C6JQwRtXX"
    },
    {
      "cell_type": "code",
      "execution_count": 6,
      "id": "843a75c8",
      "metadata": {
        "id": "843a75c8"
      },
      "outputs": [],
      "source": [
        "def batch_gradient_descent(X,y,w,alpha,iters):\n",
        "    cost_history = np.zeros(iters)\n",
        "    for i in range(iters):\n",
        "        hypothesis = np.dot(X,w.T)\n",
        "        w = w - (alpha/len(y)) * np.dot(hypothesis - y, X)\n",
        "        cost_history[i] = cost_function(X,y,w)\n",
        "    return w, cost_history\n",
        "    "
      ]
    },
    {
      "cell_type": "code",
      "execution_count": 7,
      "id": "9575951d",
      "metadata": {
        "id": "9575951d"
      },
      "outputs": [],
      "source": [
        "def stochastic_gradient_descent_l2(X,y,w,alpha, iters,lamb):\n",
        "    cost_history = np.zeros(iters)\n",
        "    for i in range(iters):\n",
        "        rand_index = np.random.randint(len(y)-1)\n",
        "        ind_x = X[rand_index:rand_index+1]\n",
        "        ind_y = y[rand_index:rand_index+1]\n",
        "        w = w*(1-alpha*lamb) - alpha * (ind_x.T.dot(ind_x.dot(w) - ind_y))\n",
        "        cost_history[i] = cost_function_l2(ind_x,ind_y,w,lamb)\n",
        "    return w, cost_history"
      ]
    },
    {
      "cell_type": "code",
      "execution_count": 8,
      "id": "29e1dbd5",
      "metadata": {
        "id": "29e1dbd5"
      },
      "outputs": [],
      "source": [
        "def MB_gradient_descent_l1(X,y,w,alpha, iters, batch_size,lamb):\n",
        "    cost_history = np.zeros(iters)\n",
        "    \n",
        "    w= np.zeros(((X.shape[1]),1))\n",
        "\n",
        "    for i in range(iters):\n",
        "        \n",
        "        rand_index = np.random.randint(len(y)-batch_size)\n",
        "        ind_x = X[rand_index:rand_index+batch_size]\n",
        "        ind_y = y[rand_index:rand_index+batch_size]\n",
        "        w = w - (alpha/batch_size) * (ind_x.T.dot(ind_x.dot(w) - ind_y) - (lamb/2)*np.sign(w))\n",
        "        cost_history[i] = cost_function_l1(ind_x,ind_y,w,lamb)\n",
        "    return w, cost_history"
      ]
    },
    {
      "cell_type": "markdown",
      "source": [
        "Defining MSE, MAE AND CC FUNCTIONS"
      ],
      "metadata": {
        "id": "SLzucY2KRFer"
      },
      "id": "SLzucY2KRFer"
    },
    {
      "cell_type": "code",
      "source": [
        "def mean_abs_error(Ypred,Yact):\n",
        "    sum_error=abs(Yact - Ypred)\n",
        "    ma_error=sum(sum_error)/Ypred.shape[0]\n",
        "    return ma_error"
      ],
      "metadata": {
        "id": "pzjkyxChO635"
      },
      "id": "pzjkyxChO635",
      "execution_count": 9,
      "outputs": []
    },
    {
      "cell_type": "code",
      "source": [
        "def mean_square_error(Ypred,Yact):\n",
        "  for i in range(Ypred.shape[0]):\n",
        "    sum_error=(Yact - Ypred)**2\n",
        "  ms_error=sum(sum_error)/Ypred.shape[0]\n",
        "  return ms_error"
      ],
      "metadata": {
        "id": "s5aj3_0zO2kl"
      },
      "id": "s5aj3_0zO2kl",
      "execution_count": 10,
      "outputs": []
    },
    {
      "cell_type": "code",
      "source": [
        "def correcoff(Ypred,Yact):\n",
        "    ypm=np.mean(Ypred)##mean of Ypred data\n",
        "    yam=np.mean(Yact)##mean of Yactual data\n",
        "\n",
        "    sum_numerator=((Yact - yam)*(Ypred-ypm))\n",
        "    \n",
        "    sum_d1=((Yact - yam)**2)\n",
        "    sum_d2=((Ypred - ypm)**2)  \n",
        "    sum_d1=pow(sum(sum_d1),1/2)\n",
        "    sum_d2=pow(sum(sum_d2),1/2)\n",
        "    th_error=sum(sum_numerator)/(sum_d1*sum_d2)\n",
        "    return th_error"
      ],
      "metadata": {
        "id": "8HVTQv6KOzv5"
      },
      "id": "8HVTQv6KOzv5",
      "execution_count": 11,
      "outputs": []
    },
    {
      "cell_type": "markdown",
      "source": [
        "LOADING THE DATA"
      ],
      "metadata": {
        "id": "UdLANCvNRHMD"
      },
      "id": "UdLANCvNRHMD"
    },
    {
      "cell_type": "code",
      "execution_count": 12,
      "id": "0035365c",
      "metadata": {
        "id": "0035365c"
      },
      "outputs": [],
      "source": [
        "data_X = pd.read_excel('/content/drive/MyDrive/nnfl data/Q1_Q2/xtr.xlsx',header=None)\n",
        "data_Y = pd.read_excel('/content/drive/MyDrive/nnfl data/Q1_Q2/ytr.xlsx',header=None)\n",
        "data_Xte = pd.read_excel('/content/drive/MyDrive/nnfl data/Q1_Q2/xte.xlsx',header=None)\n",
        "data_Yte = pd.read_excel('/content/drive/MyDrive/nnfl data/Q1_Q2/yte.xlsx',header=None)\n",
        "Xte=data_Xte.values\n",
        "Yte=data_Yte.values"
      ]
    },
    {
      "cell_type": "markdown",
      "source": [
        "NORMALISING THE TRAINING DATA"
      ],
      "metadata": {
        "id": "ZFp1JeIDROXG"
      },
      "id": "ZFp1JeIDROXG"
    },
    {
      "cell_type": "code",
      "execution_count": 13,
      "id": "efec390e",
      "metadata": {
        "id": "efec390e"
      },
      "outputs": [],
      "source": [
        "datan_x=data_X.values\n",
        "X=datan_x\n",
        "m=X.shape[0]\n",
        "xmin=np.min(X,axis=0)\n",
        "xmax=np.max(X,axis=0)\n",
        "X= (X-xmin)/(xmax-xmin)"
      ]
    },
    {
      "cell_type": "markdown",
      "source": [
        "ADDING BIAS VECTOR"
      ],
      "metadata": {
        "id": "v7uY8He2RWDT"
      },
      "id": "v7uY8He2RWDT"
    },
    {
      "cell_type": "code",
      "execution_count": 14,
      "id": "0fc72aef",
      "metadata": {
        "id": "0fc72aef"
      },
      "outputs": [],
      "source": [
        "pp=np.ones([m,1])\n",
        "X=np.append(pp,X,axis=1)"
      ]
    },
    {
      "cell_type": "code",
      "source": [
        "X_te = np.hstack((np.ones((Xte.shape[0],1)) , Xte))"
      ],
      "metadata": {
        "id": "M8xdlDvQOjV2"
      },
      "id": "M8xdlDvQOjV2",
      "execution_count": 15,
      "outputs": []
    },
    {
      "cell_type": "markdown",
      "source": [
        "NORMALISING THE TRAINING OUTPUT"
      ],
      "metadata": {
        "id": "Xy_s7PFaRX9S"
      },
      "id": "Xy_s7PFaRX9S"
    },
    {
      "cell_type": "code",
      "execution_count": 16,
      "id": "4ffcc3ed",
      "metadata": {
        "colab": {
          "base_uri": "https://localhost:8080/",
          "height": 0
        },
        "id": "4ffcc3ed",
        "outputId": "3f45c0b7-5d44-40df-f6bb-9226a28ebb17"
      },
      "outputs": [
        {
          "output_type": "stream",
          "name": "stdout",
          "text": [
            "(55, 1)\n"
          ]
        }
      ],
      "source": [
        "datan_y=data_Y.values\n",
        "y=datan_y\n",
        "\n",
        "ymin = np.min(y, axis = 0)\n",
        "ymax = np.max(y, axis = 0)\n",
        "y = (y- ymin)/(ymax-ymin)\n",
        "print(y.shape)"
      ]
    },
    {
      "cell_type": "markdown",
      "source": [
        "INITIALISING THE WEIGHT VECTOR"
      ],
      "metadata": {
        "id": "L_-eAS6sRcoW"
      },
      "id": "L_-eAS6sRcoW"
    },
    {
      "cell_type": "code",
      "execution_count": 17,
      "id": "7f10351e",
      "metadata": {
        "id": "7f10351e"
      },
      "outputs": [],
      "source": [
        "w= np.zeros((X.shape[1]))\n",
        "w1=np.zeros((X.shape[1]))###weight initialization\n",
        "\n",
        "\n"
      ]
    },
    {
      "cell_type": "markdown",
      "source": [
        "IMPLEMENTING BATCH GRADIENT DESCENT WITH LR"
      ],
      "metadata": {
        "id": "oMOehXD0Ri33"
      },
      "id": "oMOehXD0Ri33"
    },
    {
      "cell_type": "code",
      "execution_count": 18,
      "id": "7c495fa0",
      "metadata": {
        "colab": {
          "base_uri": "https://localhost:8080/",
          "height": 334
        },
        "id": "7c495fa0",
        "outputId": "810391b1-097d-4a03-c04a-5f5d71a1f8b3"
      },
      "outputs": [
        {
          "output_type": "display_data",
          "data": {
            "image/png": "[encoded data removed]",
            "text/plain": [
              "<Figure size 432x288 with 1 Axes>"
            ]
          },
          "metadata": {
            "needs_background": "light"
          }
        },
        {
          "output_type": "stream",
          "name": "stdout",
          "text": [
            "WEIGHT VECTOR [[0.18191255 0.0932603  0.10508698]]\n",
            "MEAN ABSOLUTE ERROR [1.30998239]\n",
            "MEAN SQUARE ERROR: [1.73572317]\n",
            "CORRELATION COEFF: [-0.00825793]\n"
          ]
        }
      ],
      "source": [
        "alpha=0.00025 ##learning rate\n",
        "iters=1250 ###iterations\n",
        "lamb=5\n",
        "batch_w,J_his = batch_gradient_descent(X,y,w,alpha,iters)\n",
        "\n",
        "plt.plot(range(iters),J_his)\n",
        "plt.show()\n",
        "\n",
        "bgd=batch_w[-1:]\n",
        "print(\"WEIGHT VECTOR\",bgd)\n",
        "\n",
        "y_pred_bgd=X_te.dot(bgd.T)\n",
        "a=mean_abs_error(y_pred_bgd,Yte)\n",
        "print(\"MEAN ABSOLUTE ERROR\",a)\n",
        "\n",
        "b=mean_square_error(y_pred_bgd,Yte)\n",
        "print(\"MEAN SQUARE ERROR:\",b)\n",
        "\n",
        "c=correcoff(y_pred_bgd,Yte)\n",
        "print(\"CORRELATION COEFF:\",c)"
      ]
    },
    {
      "cell_type": "markdown",
      "source": [
        "IMPLEMENTING STOCHASTIC GRAIDENT DESCENT WITH RR[L2]"
      ],
      "metadata": {
        "id": "2C6RT4pRSLIT"
      },
      "id": "2C6RT4pRSLIT"
    },
    {
      "cell_type": "code",
      "execution_count": 19,
      "id": "792f0281",
      "metadata": {
        "id": "792f0281",
        "colab": {
          "base_uri": "https://localhost:8080/",
          "height": 334
        },
        "outputId": "840f0363-4e99-4334-b4b3-368bc2c0a41c"
      },
      "outputs": [
        {
          "output_type": "display_data",
          "data": {
            "image/png": "[encoded data removed]",
            "text/plain": [
              "<Figure size 432x288 with 1 Axes>"
            ]
          },
          "metadata": {
            "needs_background": "light"
          }
        },
        {
          "output_type": "stream",
          "name": "stdout",
          "text": [
            "WEIGHT VECTOR: [[0.09020741 0.09020741 0.09020741]]\n",
            "MEAN ABSOLUTE ERROR [1.03753298]\n",
            "MEAN SQUARE ERROR: [1.09290369]\n",
            "CORRELATION COEFF: [-0.00880095]\n"
          ]
        }
      ],
      "source": [
        "alpha=0.0008\n",
        "iters=3000 ###iterations\n",
        "lamb=1\n",
        "w_n_l2,J_sgd_l2 = stochastic_gradient_descent_l2(X,y,w,alpha, iters,lamb)\n",
        "\n",
        "plt.plot(range(iters),J_sgd_l2)\n",
        "plt.show()\n",
        "\n",
        "sgd_l2=w_n_l2[-1:]\n",
        "print(\"WEIGHT VECTOR:\",sgd_l2)\n",
        "\n",
        "y_pred_sgd_l2=X_te.dot(sgd_l2.T)\n",
        "\n",
        "a=mean_abs_error(y_pred_sgd_l2,Yte)\n",
        "print(\"MEAN ABSOLUTE ERROR\",a)\n",
        "\n",
        "b=mean_square_error(y_pred_sgd_l2,Yte)\n",
        "print(\"MEAN SQUARE ERROR:\",b)\n",
        "\n",
        "c=correcoff(y_pred_sgd_l2,Yte)\n",
        "print(\"CORRELATION COEFF:\",c)"
      ]
    },
    {
      "cell_type": "markdown",
      "source": [
        "IMPLEMENTING MINI BATCH GRADIENT DESCENT WITH LAR[L1]"
      ],
      "metadata": {
        "id": "po35cnXSSobH"
      },
      "id": "po35cnXSSobH"
    },
    {
      "cell_type": "code",
      "execution_count": 20,
      "id": "1fae847b",
      "metadata": {
        "colab": {
          "base_uri": "https://localhost:8080/",
          "height": 369
        },
        "id": "1fae847b",
        "outputId": "5e90cf35-81e5-4e54-a3a7-b5d3b20ba279"
      },
      "outputs": [
        {
          "output_type": "display_data",
          "data": {
            "image/png": "[encoded data removed]",
            "text/plain": [
              "<Figure size 432x288 with 1 Axes>"
            ]
          },
          "metadata": {
            "needs_background": "light"
          }
        },
        {
          "output_type": "stream",
          "name": "stdout",
          "text": [
            "WEIGHT VECTOR: [[0.23586686]\n",
            " [0.06197959]\n",
            " [0.10418553]]\n",
            "MEAN ABSOLUTE ERROR [0.8123559]\n",
            "MEAN SQUARE ERROR: [0.674275]\n",
            "CORRELATION COEFF: [-0.00650422]\n"
          ]
        }
      ],
      "source": [
        "alpha=0.002 \n",
        "iters=3000 ###iterations\n",
        "lamb=0.2\n",
        "batch_size=30\n",
        "mb_w_l1,J_mb_l1 = MB_gradient_descent_l1(X,y,w1,alpha, iters, batch_size,lamb)\n",
        "\n",
        "plt.plot(range(iters),J_mb_l1)\n",
        "plt.show()\n",
        "print(\"WEIGHT VECTOR:\",mb_w_l1)\n",
        "y_pred_mbg_l1=X_te.dot(mb_w_l1)\n",
        "\n",
        "a=mean_abs_error(y_pred_mbg_l1,Yte)\n",
        "print(\"MEAN ABSOLUTE ERROR\",a)\n",
        "\n",
        "b=mean_square_error(y_pred_mbg_l1,Yte)\n",
        "print(\"MEAN SQUARE ERROR:\",b)\n",
        "\n",
        "c=correcoff(y_pred_mbg_l1,Yte)\n",
        "print(\"CORRELATION COEFF:\",c)"
      ]
    }
  ],
  "metadata": {
    "kernelspec": {
      "display_name": "Python 3",
      "language": "python",
      "name": "python3"
    },
    "language_info": {
      "codemirror_mode": {
        "name": "ipython",
        "version": 3
      },
      "file_extension": ".py",
      "mimetype": "text/x-python",
      "name": "python",
      "nbconvert_exporter": "python",
      "pygments_lexer": "ipython3",
      "version": "3.8.8"
    },
    "colab": {
      "name": "Q1.ipynb",
      "provenance": [],
      "collapsed_sections": []
    }
  },
  "nbformat": 4,
  "nbformat_minor": 5
}