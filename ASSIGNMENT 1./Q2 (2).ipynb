{
  "cells": [
    {
      "cell_type": "markdown",
      "source": [
        "**Q2**"
      ],
      "metadata": {
        "id": "OcUbEK1TprcW"
      },
      "id": "OcUbEK1TprcW"
    },
    {
      "cell_type": "markdown",
      "source": [
        "MOUNTING THE DRIVE"
      ],
      "metadata": {
        "id": "sRUfwZSYTBCE"
      },
      "id": "sRUfwZSYTBCE"
    },
    {
      "cell_type": "code",
      "source": [
        "from google.colab import drive\n",
        "drive.mount('/content/drive')"
      ],
      "metadata": {
        "colab": {
          "base_uri": "https://localhost:8080/",
          "height": 0
        },
        "id": "8Pj1vTJqwyYb",
        "outputId": "a14f2a18-f2af-47be-cf56-3263864c8a85"
      },
      "id": "8Pj1vTJqwyYb",
      "execution_count": 4,
      "outputs": [
        {
          "output_type": "stream",
          "name": "stdout",
          "text": [
            "Mounted at /content/drive\n"
          ]
        }
      ]
    },
    {
      "cell_type": "markdown",
      "source": [
        "importing libraries"
      ],
      "metadata": {
        "id": "Z-NS21FVTIz1"
      },
      "id": "Z-NS21FVTIz1"
    },
    {
      "cell_type": "code",
      "execution_count": 5,
      "id": "6ec5b823",
      "metadata": {
        "id": "6ec5b823"
      },
      "outputs": [],
      "source": [
        "import pandas as pd\n",
        "import math\n",
        "import numpy as np\n",
        "import matplotlib.pyplot as plt\n",
        "import sklearn"
      ]
    },
    {
      "cell_type": "markdown",
      "source": [
        "Defining Cost Functions"
      ],
      "metadata": {
        "id": "iftYey4ETJcJ"
      },
      "id": "iftYey4ETJcJ"
    },
    {
      "cell_type": "code",
      "execution_count": 6,
      "id": "0a23dffb",
      "metadata": {
        "id": "0a23dffb"
      },
      "outputs": [],
      "source": [
        "def cost_function_l2(X,y,w,lamb):\n",
        "\n",
        "    hypothesis = np.dot(X,w.T)\n",
        "   \n",
        "    J= (1/(2*len(y)))*np.sum((hypothesis-y)**2) + (lamb/2)*np.sum(w**2)\n",
        "    return J"
      ]
    },
    {
      "cell_type": "code",
      "execution_count": 7,
      "id": "9bdc56b2",
      "metadata": {
        "id": "9bdc56b2"
      },
      "outputs": [],
      "source": [
        "def cost_function_l1(X,y,w,lamb):\n",
        "    w=w.ravel()\n",
        "    hypothesis = np.dot(X,np.transpose(w))\n",
        "    \n",
        "    J= (1/(2*len(y)))*np.sum((hypothesis-y)**2) + (lamb/2)*np.sum(abs(w))\n",
        "    return J"
      ]
    },
    {
      "cell_type": "code",
      "execution_count": 8,
      "id": "7f75d26f",
      "metadata": {
        "id": "7f75d26f"
      },
      "outputs": [],
      "source": [
        "def cost_function(X,y,w):\n",
        "\n",
        "    hypothesis = np.dot(X,w.T)\n",
        "    J = (1/(2*len(y)))*np.sum((hypothesis-y)**2)\n",
        "\n",
        "    return J"
      ]
    },
    {
      "cell_type": "markdown",
      "source": [
        "Defining gradient descent functions"
      ],
      "metadata": {
        "id": "LD10RmarTYTn"
      },
      "id": "LD10RmarTYTn"
    },
    {
      "cell_type": "code",
      "execution_count": 9,
      "id": "843a75c8",
      "metadata": {
        "id": "843a75c8"
      },
      "outputs": [],
      "source": [
        "def batch_gradient_descent(X,y,w,alpha,iters):\n",
        "    cost_history = np.zeros(iters)\n",
        "    for i in range(iters):\n",
        "        hypothesis = np.dot(X,w.T)\n",
        "        w = w - (alpha/len(y)) * np.dot(hypothesis - y, X)\n",
        "        cost_history[i] = cost_function(X,y,w)\n",
        "    return w, cost_history\n",
        "    "
      ]
    },
    {
      "cell_type": "code",
      "execution_count": 10,
      "id": "9575951d",
      "metadata": {
        "id": "9575951d"
      },
      "outputs": [],
      "source": [
        "def stochastic_gradient_descent_l2(X,y,w,alpha, iters,lamb):\n",
        "    cost_history = np.zeros(iters)\n",
        "    for i in range(iters):\n",
        "        rand_index = np.random.randint(len(y)-1)\n",
        "        ind_x = X[rand_index:rand_index+1]\n",
        "        ind_y = y[rand_index:rand_index+1]\n",
        "        w = w*(1-alpha*lamb) - alpha * (ind_x.T.dot(ind_x.dot(w) - ind_y))\n",
        "        cost_history[i] = cost_function_l2(ind_x,ind_y,w,lamb)\n",
        "    return w, cost_history"
      ]
    },
    {
      "cell_type": "code",
      "execution_count": 11,
      "id": "29e1dbd5",
      "metadata": {
        "id": "29e1dbd5"
      },
      "outputs": [],
      "source": [
        "def MB_gradient_descent_l1(X,y,w,alpha, iters, batch_size,lamb):\n",
        "    cost_history = np.zeros(iters)\n",
        "    \n",
        "    w= np.zeros(((X.shape[1]),1))\n",
        "\n",
        "    for i in range(iters):\n",
        "        \n",
        "        rand_index = np.random.randint(len(y)-batch_size)\n",
        "        ind_x = X[rand_index:rand_index+batch_size]\n",
        "        ind_y = y[rand_index:rand_index+batch_size]\n",
        "        w = w - (alpha/batch_size) * (ind_x.T.dot(ind_x.dot(w) - ind_y) - (lamb/2)*np.sign(w))\n",
        "        cost_history[i] = cost_function_l1(ind_x,ind_y,w,lamb)\n",
        "    return w, cost_history"
      ]
    },
    {
      "cell_type": "markdown",
      "source": [
        "Defining MSE, MAE AND CC FUNCTIONS"
      ],
      "metadata": {
        "id": "wI_uMDItTevd"
      },
      "id": "wI_uMDItTevd"
    },
    {
      "cell_type": "code",
      "source": [
        "def mean_abs_error(Ypred,Yact):\n",
        "    sum_error=abs(Yact - Ypred)\n",
        "    ma_error=sum(sum_error)/Ypred.shape[0]\n",
        "    return ma_error"
      ],
      "metadata": {
        "id": "BHsTJ1v1Tijn"
      },
      "id": "BHsTJ1v1Tijn",
      "execution_count": 12,
      "outputs": []
    },
    {
      "cell_type": "code",
      "source": [
        "def mean_square_error(Ypred,Yact):\n",
        "  for i in range(Ypred.shape[0]):\n",
        "    sum_error=(Yact - Ypred)**2\n",
        "  ms_error=sum(sum_error)/Ypred.shape[0]\n",
        "  return ms_error"
      ],
      "metadata": {
        "id": "_5zEe7F6TigO"
      },
      "id": "_5zEe7F6TigO",
      "execution_count": 13,
      "outputs": []
    },
    {
      "cell_type": "code",
      "source": [
        "def correcoff(Ypred,Yact):\n",
        "    ypm=np.mean(Ypred)##mean of Ypred data\n",
        "    yam=np.mean(Yact)##mean of Yactual data\n",
        "\n",
        "    sum_numerator=((Yact - yam)*(Ypred-ypm))\n",
        "    \n",
        "    sum_d1=((Yact - yam)**2)\n",
        "    sum_d2=((Ypred - ypm)**2)  \n",
        "    sum_d1=pow(sum(sum_d1),1/2)\n",
        "    sum_d2=pow(sum(sum_d2),1/2)\n",
        "    th_error=sum(sum_numerator)/(sum_d1*sum_d2)\n",
        "    return th_error"
      ],
      "metadata": {
        "id": "xpVylZsETid0"
      },
      "id": "xpVylZsETid0",
      "execution_count": 14,
      "outputs": []
    },
    {
      "cell_type": "markdown",
      "source": [
        "LOADING THE DATA"
      ],
      "metadata": {
        "id": "f0sbnmU9Tmc5"
      },
      "id": "f0sbnmU9Tmc5"
    },
    {
      "cell_type": "code",
      "execution_count": 15,
      "id": "0035365c",
      "metadata": {
        "id": "0035365c"
      },
      "outputs": [],
      "source": [
        "data_X = pd.read_excel('/content/drive/MyDrive/nnfl data/Q1_Q2/xtr.xlsx',header=None)\n",
        "data_Y = pd.read_excel('/content/drive/MyDrive/nnfl data/Q1_Q2/ytr.xlsx',header=None)\n",
        "data_Xte = pd.read_excel('/content/drive/MyDrive/nnfl data/Q1_Q2/xte.xlsx',header=None)\n",
        "data_Yte = pd.read_excel('/content/drive/MyDrive/nnfl data/Q1_Q2/yte.xlsx',header=None)\n",
        "Xte=data_Xte.values\n",
        "Xte1=Xte[:,0].reshape(Xte.shape[0],1)\n",
        "Xte2=Xte[:,1].reshape(Xte.shape[0],1)\n",
        "k=Xte.shape[0]\n",
        "Yte=data_Yte.values\n",
        "Yte1=Yte[:,0].reshape(Yte.shape[0],1)"
      ]
    },
    {
      "cell_type": "markdown",
      "source": [
        "NORMALISING THE TRAINING DATA"
      ],
      "metadata": {
        "id": "z2OrSCC0Twn5"
      },
      "id": "z2OrSCC0Twn5"
    },
    {
      "cell_type": "code",
      "execution_count": 16,
      "id": "efec390e",
      "metadata": {
        "id": "efec390e"
      },
      "outputs": [],
      "source": [
        "datan_x=data_X.values\n",
        "X1=datan_x[:,0].reshape(datan_x.shape[0],1)\n",
        "X2=datan_x[:,1].reshape(datan_x.shape[0],1)\n",
        "m=X1.shape[0]\n",
        "\n",
        "x1min=np.min(X1,axis=0)\n",
        "x1max=np.max(X1,axis=0)\n",
        "X1= (X1-x1min)/(x1max-x1min)\n",
        "\n",
        "n=X2.shape[0]\n",
        "\n",
        "x2min=np.min(X2,axis=0)\n",
        "x2max=np.max(X2,axis=0)\n",
        "X2= (X2-x2min)/(x2max-x2min)\n"
      ]
    },
    {
      "cell_type": "markdown",
      "source": [
        "MAKING THE FEATURE MAPPING FOR PR"
      ],
      "metadata": {
        "id": "k9lHoKGmT2Gw"
      },
      "id": "k9lHoKGmT2Gw"
    },
    {
      "cell_type": "code",
      "execution_count": 17,
      "id": "0fc72aef",
      "metadata": {
        "scrolled": true,
        "id": "0fc72aef"
      },
      "outputs": [],
      "source": [
        "Z=np.ones([m,1])\n",
        "Z=np.append(Z,X1,axis=1)\n",
        "\n",
        "Z=np.append(Z,X2,axis=1)\n",
        "\n",
        "Z=np.append(Z,X1**2,axis=1)\n",
        "Z=np.append(Z,X2**2,axis=1)\n",
        "Z=np.append(Z,X1*X2,axis=1)\n",
        "\n",
        "\n",
        "Zte=np.ones([k,1])\n",
        "Zte=np.append(Zte,Xte1,axis=1)\n",
        "\n",
        "Zte=np.append(Zte,Xte2,axis=1)\n",
        "\n",
        "Zte=np.append(Zte,Xte1**2,axis=1)\n",
        "Zte=np.append(Zte,Xte2**2,axis=1)\n",
        "Zte=np.append(Zte,Xte1*Xte2,axis=1)\n",
        "\n",
        "\n",
        "\n",
        "\n"
      ]
    },
    {
      "cell_type": "markdown",
      "id": "dac9a33b",
      "metadata": {
        "id": "dac9a33b"
      },
      "source": [
        ""
      ]
    },
    {
      "cell_type": "markdown",
      "source": [
        "NORMALISING THE TRAINING OUTPUT"
      ],
      "metadata": {
        "id": "78XrL1d8T_UG"
      },
      "id": "78XrL1d8T_UG"
    },
    {
      "cell_type": "code",
      "execution_count": 18,
      "id": "4ffcc3ed",
      "metadata": {
        "colab": {
          "base_uri": "https://localhost:8080/",
          "height": 0
        },
        "id": "4ffcc3ed",
        "outputId": "60b9f64d-69cd-4662-d9b9-091b93db3f5a"
      },
      "outputs": [
        {
          "output_type": "stream",
          "name": "stdout",
          "text": [
            "(55, 1)\n"
          ]
        }
      ],
      "source": [
        "datan_y=data_Y.values\n",
        "y=datan_y\n",
        "\n",
        "ymin = np.min(y, axis = 0)\n",
        "ymax = np.max(y, axis = 0)\n",
        "y = (y- ymin)/(ymax-ymin)\n",
        "print(y.shape)"
      ]
    },
    {
      "cell_type": "markdown",
      "source": [
        "INITIALISING THE WEIGHT VECTOR"
      ],
      "metadata": {
        "id": "RD67YPGgUCil"
      },
      "id": "RD67YPGgUCil"
    },
    {
      "cell_type": "code",
      "execution_count": 19,
      "id": "7f10351e",
      "metadata": {
        "id": "7f10351e"
      },
      "outputs": [],
      "source": [
        "w= np.zeros((Z.shape[1]))\n",
        "w1=np.zeros((Z.shape[1]))###weight initialization\n",
        "\n"
      ]
    },
    {
      "cell_type": "markdown",
      "source": [
        "IMPLEMENTING BATCH GRADIENT DESCENT WITH PR"
      ],
      "metadata": {
        "id": "uFp_TQF8UT5g"
      },
      "id": "uFp_TQF8UT5g"
    },
    {
      "cell_type": "code",
      "execution_count": 20,
      "id": "7c495fa0",
      "metadata": {
        "colab": {
          "base_uri": "https://localhost:8080/",
          "height": 334
        },
        "id": "7c495fa0",
        "outputId": "99a5b017-b557-473d-b624-a6957bff9e4c"
      },
      "outputs": [
        {
          "output_type": "display_data",
          "data": {
            "image/png": "[encoded data removed]",
            "text/plain": [
              "<Figure size 432x288 with 1 Axes>"
            ]
          },
          "metadata": {
            "needs_background": "light"
          }
        },
        {
          "output_type": "stream",
          "name": "stdout",
          "text": [
            "WEIGHT VECTOR [[0.17557825 0.09014305 0.10155515 0.06084765 0.07114284 0.06120531]]\n",
            "MEAN ABSOLUTE ERROR [34.06934365]\n",
            "MEAN SQUARE ERROR: [1172.82569505]\n",
            "CORRELATION COEFF: [-0.00907119]\n"
          ]
        }
      ],
      "source": [
        "alpha=0.0006 ##learning rate\n",
        "iters=500 ###iterations\n",
        "lamb=1\n",
        "batch_w,J_his = batch_gradient_descent(Z,y,w,alpha,iters)\n",
        "\n",
        "plt.plot(range(iters),J_his)\n",
        "plt.show()\n",
        "\n",
        "bgd=batch_w[-1:]\n",
        "print(\"WEIGHT VECTOR\",bgd)\n",
        "\n",
        "y_pred_bgd=Zte.dot(bgd.T)\n",
        "a=mean_abs_error(y_pred_bgd,Yte)\n",
        "print(\"MEAN ABSOLUTE ERROR\",a)\n",
        "\n",
        "b=mean_square_error(y_pred_bgd,Yte)\n",
        "print(\"MEAN SQUARE ERROR:\",b)\n",
        "\n",
        "c=correcoff(y_pred_bgd,Yte)\n",
        "print(\"CORRELATION COEFF:\",c)"
      ]
    },
    {
      "cell_type": "markdown",
      "source": [
        "IMPLEMENTING STOCHASTIC GRAIDENT DESCENT WITH PR WITH L2 NORM REGULARISATION"
      ],
      "metadata": {
        "id": "VRcStMrVU3dL"
      },
      "id": "VRcStMrVU3dL"
    },
    {
      "cell_type": "code",
      "execution_count": 21,
      "id": "792f0281",
      "metadata": {
        "id": "792f0281",
        "colab": {
          "base_uri": "https://localhost:8080/",
          "height": 334
        },
        "outputId": "c8b48026-152e-4fa3-a374-c8874275376a"
      },
      "outputs": [
        {
          "output_type": "display_data",
          "data": {
            "image/png": "[encoded data removed]",
            "text/plain": [
              "<Figure size 432x288 with 1 Axes>"
            ]
          },
          "metadata": {
            "needs_background": "light"
          }
        },
        {
          "output_type": "stream",
          "name": "stdout",
          "text": [
            "WEIGHT VECTOR: [[0.00834931 0.00834931 0.00834931 0.00834931 0.00834931 0.00834931]]\n",
            "MEAN ABSOLUTE ERROR [3.22569445]\n",
            "MEAN SQUARE ERROR: [10.61160124]\n",
            "CORRELATION COEFF: [-0.00944736]\n"
          ]
        }
      ],
      "source": [
        "alpha=0.00006\n",
        "iters=1000 ###iterations\n",
        "lamb=0.05\n",
        "w_n_l2,J_sgd_l2 = stochastic_gradient_descent_l2(Z,y,w,alpha, iters,lamb)\n",
        "\n",
        "plt.plot(range(iters),J_sgd_l2)\n",
        "plt.show()\n",
        "\n",
        "sgd_l2=w_n_l2[-1:]\n",
        "\n",
        "print(\"WEIGHT VECTOR:\",sgd_l2)\n",
        "\n",
        "y_pred_sgd_l2=Zte.dot(sgd_l2.T)\n",
        "\n",
        "a=mean_abs_error(y_pred_sgd_l2,Yte)\n",
        "print(\"MEAN ABSOLUTE ERROR\",a)\n",
        "\n",
        "b=mean_square_error(y_pred_sgd_l2,Yte)\n",
        "print(\"MEAN SQUARE ERROR:\",b)\n",
        "\n",
        "c=correcoff(y_pred_sgd_l2,Yte)\n",
        "print(\"CORRELATION COEFF:\",c)"
      ]
    },
    {
      "cell_type": "markdown",
      "source": [
        "IMPLEMENTING MINI BATCH GRADIENT DESCENT WITH PR WITH L1 NORM REGULARISATION"
      ],
      "metadata": {
        "id": "2nvLcnCYVXa5"
      },
      "id": "2nvLcnCYVXa5"
    },
    {
      "cell_type": "code",
      "source": [
        "alpha=0.005 \n",
        "iters=1200 ###iterations\n",
        "lamb=0.5\n",
        "batch_size=35\n",
        "mb_w_l1,J_mb_l1 = MB_gradient_descent_l1(Z,y,w1,alpha, iters, batch_size,lamb)\n",
        "\n",
        "plt.plot(range(iters),J_mb_l1)\n",
        "plt.show()\n",
        "\n",
        "print(\"WEIGHT VECTOR:\",mb_w_l1)\n",
        "y_pred_mbg_l1=Zte.dot(mb_w_l1)\n",
        "\n",
        "a=mean_abs_error(y_pred_mbg_l1,Yte)\n",
        "print(\"MEAN ABSOLUTE ERROR\",a)\n",
        "\n",
        "b=mean_square_error(y_pred_mbg_l1,Yte)\n",
        "print(\"MEAN SQUARE ERROR:\",b)\n",
        "\n",
        "c=correcoff(y_pred_mbg_l1,Yte)\n",
        "print(\"CORRELATION COEFF:\",c)"
      ],
      "metadata": {
        "colab": {
          "base_uri": "https://localhost:8080/",
          "height": 421
        },
        "id": "SHXYc-omVcC3",
        "outputId": "fb8bfe69-7a10-4756-cc36-3736785446bd"
      },
      "id": "SHXYc-omVcC3",
      "execution_count": 22,
      "outputs": [
        {
          "output_type": "display_data",
          "data": {
            "image/png": "[encoded data removed]",
            "text/plain": [
              "<Figure size 432x288 with 1 Axes>"
            ]
          },
          "metadata": {
            "needs_background": "light"
          }
        },
        {
          "output_type": "stream",
          "name": "stdout",
          "text": [
            "WEIGHT VECTOR: [[ 0.24162462]\n",
            " [ 0.0483339 ]\n",
            " [ 0.09309818]\n",
            " [-0.00305662]\n",
            " [ 0.02442236]\n",
            " [ 0.00455333]]\n",
            "MEAN ABSOLUTE ERROR [2.05192643]\n",
            "MEAN SQUARE ERROR: [4.37638189]\n",
            "CORRELATION COEFF: [0.00053929]\n"
          ]
        }
      ]
    }
  ],
  "metadata": {
    "kernelspec": {
      "display_name": "Python 3",
      "language": "python",
      "name": "python3"
    },
    "language_info": {
      "codemirror_mode": {
        "name": "ipython",
        "version": 3
      },
      "file_extension": ".py",
      "mimetype": "text/x-python",
      "name": "python",
      "nbconvert_exporter": "python",
      "pygments_lexer": "ipython3",
      "version": "3.8.8"
    },
    "colab": {
      "name": "Q2.ipynb",
      "provenance": [],
      "collapsed_sections": []
    }
  },
  "nbformat": 4,
  "nbformat_minor": 5
}