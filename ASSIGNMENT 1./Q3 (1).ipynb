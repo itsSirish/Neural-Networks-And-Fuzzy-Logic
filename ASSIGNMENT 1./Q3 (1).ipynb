{
  "nbformat": 4,
  "nbformat_minor": 0,
  "metadata": {
    "colab": {
      "name": "Q3.ipynb",
      "provenance": [],
      "collapsed_sections": []
    },
    "kernelspec": {
      "name": "python3",
      "display_name": "Python 3"
    },
    "language_info": {
      "name": "python"
    }
  },
  "cells": [
    {
      "cell_type": "markdown",
      "source": [
        "**Q3**"
      ],
      "metadata": {
        "id": "76m0kHhYptpS"
      }
    },
    {
      "cell_type": "markdown",
      "source": [
        "MOUNTING THE DRIVE"
      ],
      "metadata": {
        "id": "xbO6ycXWXOSg"
      }
    },
    {
      "cell_type": "code",
      "execution_count": 1,
      "metadata": {
        "colab": {
          "base_uri": "https://localhost:8080/",
          "height": 0
        },
        "id": "Mhi5UulKO_GY",
        "outputId": "bf436c46-bddb-4b51-8dbd-785955213186"
      },
      "outputs": [
        {
          "output_type": "stream",
          "name": "stdout",
          "text": [
            "Mounted at /content/drive\n"
          ]
        }
      ],
      "source": [
        "from google.colab import drive\n",
        "drive.mount('/content/drive')\n"
      ]
    },
    {
      "cell_type": "markdown",
      "source": [
        "importing libraries"
      ],
      "metadata": {
        "id": "tik0rwbNXPqg"
      }
    },
    {
      "cell_type": "code",
      "source": [
        "import pandas as pd\n",
        "import math\n",
        "import numpy as np\n",
        "import matplotlib.pyplot as plt\n",
        "import sklearn\n",
        "np.random.seed(0)\n",
        "from sklearn.metrics import confusion_matrix"
      ],
      "metadata": {
        "id": "AYKSXVSePkin"
      },
      "execution_count": 2,
      "outputs": []
    },
    {
      "cell_type": "markdown",
      "source": [
        "LOADING THE DATA"
      ],
      "metadata": {
        "id": "5rOcddxxXTFv"
      }
    },
    {
      "cell_type": "code",
      "source": [
        "data = pd.read_excel('/content/drive/MyDrive/nnfl data/Xtr_Q3.xlsx',header=None) ###loading dataset to\n"
      ],
      "metadata": {
        "id": "Rb0pmVmJPyiI"
      },
      "execution_count": 3,
      "outputs": []
    },
    {
      "cell_type": "code",
      "source": [
        "data1 = pd.read_excel('/content/drive/MyDrive/nnfl data/Ytr_Q3.xlsx',header=None) ###loading dataset to\n"
      ],
      "metadata": {
        "id": "JCP55X_ERniY"
      },
      "execution_count": 4,
      "outputs": []
    },
    {
      "cell_type": "code",
      "source": [
        "data_Xte = pd.read_excel('/content/drive/MyDrive/nnfl data/Xte_Q3.xlsx',header=None)\n",
        "data_Yte = pd.read_excel('/content/drive/MyDrive/nnfl data/Yte_Q3.xlsx',header=None)"
      ],
      "metadata": {
        "id": "uqkwCvyxdYUK"
      },
      "execution_count": 5,
      "outputs": []
    },
    {
      "cell_type": "markdown",
      "source": [
        "NORMALISING THE TESTING DATA"
      ],
      "metadata": {
        "id": "sJkVCA7WYA0n"
      }
    },
    {
      "cell_type": "code",
      "source": [
        "Xte=data_Xte.values\n",
        "Yte=data_Yte.values\n",
        "\n",
        "xminte = np.min(Xte, axis = 0)\n",
        "xmaxte = np.max(Xte, axis = 0)\n",
        "Xte = (Xte- xminte)/(xmaxte-xminte)\n",
        "\n",
        "Yte=Yte-1\n",
        "Yte=Yte.ravel()\n",
        "\n",
        "n=Xte.shape[0]\n",
        "qq = np.ones([n, 1])\n",
        "Xte = np.append(qq,Xte, axis=1)\n",
        "\n",
        "print(Xte.shape,Yte.shape)"
      ],
      "metadata": {
        "colab": {
          "base_uri": "https://localhost:8080/",
          "height": 0
        },
        "id": "t6odJuNmdfPR",
        "outputId": "d972262c-4ba0-45d4-ac73-e65c31b28a58"
      },
      "execution_count": 6,
      "outputs": [
        {
          "output_type": "stream",
          "name": "stdout",
          "text": [
            "(119, 61) (119,)\n"
          ]
        }
      ]
    },
    {
      "cell_type": "code",
      "source": [
        "m=data.shape[0]\n",
        "datan=data.values\n",
        "data1n=data1.values\n",
        "\n",
        "y=data1n[:,0] # class label\n",
        "\n",
        "X=datan # feature matrix\n"
      ],
      "metadata": {
        "id": "l2aHAtkKQDoZ"
      },
      "execution_count": 7,
      "outputs": []
    },
    {
      "cell_type": "markdown",
      "source": [
        "NORMALISING THE TRAINING DATA"
      ],
      "metadata": {
        "id": "zRHAkj8zYPYW"
      }
    },
    {
      "cell_type": "code",
      "source": [
        "xmin = np.min(X, axis = 0)\n",
        "xmax = np.max(X, axis = 0)\n",
        "X = (X- xmin)/(xmax-xmin)\n"
      ],
      "metadata": {
        "id": "qYXTwJ6cQY8t"
      },
      "execution_count": 8,
      "outputs": []
    },
    {
      "cell_type": "markdown",
      "source": [
        "ADDING BIAS VECTOR"
      ],
      "metadata": {
        "id": "1o0ef3aiYUO-"
      }
    },
    {
      "cell_type": "code",
      "source": [
        "pp = np.ones([m, 1]) # vector containg ones as all elements\n",
        "X = np.append(pp,X, axis=1) #Column of ones\n",
        "y=y-1\n",
        "print(X.shape,y.shape)"
      ],
      "metadata": {
        "id": "uPEKC6bWQskb",
        "colab": {
          "base_uri": "https://localhost:8080/",
          "height": 0
        },
        "outputId": "9503a738-93f0-4062-bcf6-298e2cef0850"
      },
      "execution_count": 9,
      "outputs": [
        {
          "output_type": "stream",
          "name": "stdout",
          "text": [
            "(1589, 61) (1589,)\n"
          ]
        }
      ]
    },
    {
      "cell_type": "markdown",
      "source": [
        "DEFINING SIGMOID FUNCTION"
      ],
      "metadata": {
        "id": "nAigM-G7YYga"
      }
    },
    {
      "cell_type": "code",
      "source": [
        "def sigmoid(z):\n",
        "    return 1.0/(1 + np.exp(-z)) ###activation function"
      ],
      "metadata": {
        "id": "iSrsVX7XShQM"
      },
      "execution_count": 10,
      "outputs": []
    },
    {
      "cell_type": "markdown",
      "source": [
        "DEFINING COST FUNCTIONS"
      ],
      "metadata": {
        "id": "L3OlRUMmYazO"
      }
    },
    {
      "cell_type": "code",
      "source": [
        "def cost_function(X,y,w): ###define cost function\n",
        "    hypothesis = sigmoid(np.dot(X,w.T)) ###calculation of hypothesis for all instances\n",
        "    J =-(1/m)*(np.sum(y*(np.log(hypothesis)) + (1-y)*np.log(1-hypothesis))) \n",
        "    return J"
      ],
      "metadata": {
        "id": "Z1VeQc8qS_zY"
      },
      "execution_count": 11,
      "outputs": []
    },
    {
      "cell_type": "code",
      "source": [
        "def cost_function_l1(X,y,w,lamb):\n",
        "\n",
        "   ###define cost function\n",
        "  hypothesis = sigmoid(np.dot(X,w.T)) ###calculation of hypothesis for all instances\n",
        "  J =-(1/m)*(np.sum(y*(np.log(hypothesis)) + (1-y)*np.log(1-hypothesis))) + (lamb/2)*np.sum(abs(w)) \n",
        "  return J"
      ],
      "metadata": {
        "id": "29cgLvSm0Yr3"
      },
      "execution_count": 12,
      "outputs": []
    },
    {
      "cell_type": "code",
      "source": [
        "def cost_function_l2(X,y,w,lamb):\n",
        " \n",
        "   ###define cost function\n",
        "  hypothesis = sigmoid(np.dot(X,w.T)) ###calculation of hypothesis for all instances\n",
        "  J =-(1/m)*(np.sum(y*(np.log(hypothesis)) + (1-y)*np.log(1-hypothesis))) + (lamb/2)*np.sum(w**2) \n",
        "  return J"
      ],
      "metadata": {
        "id": "Knu09Eya_Wcp"
      },
      "execution_count": 13,
      "outputs": []
    },
    {
      "cell_type": "markdown",
      "source": [
        "DEFINING GRADIENT DESCENT FUNCTIONS"
      ],
      "metadata": {
        "id": "q7CyFlV8YdJr"
      }
    },
    {
      "cell_type": "code",
      "source": [
        "def batch_gradient_descent(X,y,w,alpha,iters):\n",
        "    cost_history = np.zeros(iters) # cost function for each iteration\n",
        "       #initalize our cost history list to store the cost function on every iteration\n",
        "    for i in range(iters):\n",
        "       \n",
        "        hypothesis = sigmoid(np.dot(X,w.T))\n",
        "        w = w - (alpha/len(y)) * np.dot(hypothesis - y,X)\n",
        "        cost_history[i] = cost_function(X,y,w)\n",
        "    return w,cost_history"
      ],
      "metadata": {
        "id": "9L-jzIIkTg8v"
      },
      "execution_count": 14,
      "outputs": []
    },
    {
      "cell_type": "code",
      "execution_count": 15,
      "metadata": {
        "id": "M1KaHsZd6mVd"
      },
      "outputs": [],
      "source": [
        "def batch_gradient_descent_l1(X,y,w,alpha,iters,lamb):\n",
        "  cost_history = np.zeros(iters)\n",
        "  \n",
        " # cost function for each iteration\n",
        "  #initalize our cost history list to store the cost function on every iteration\n",
        "  for i in range(iters):\n",
        "    hypothesis = sigmoid(np.dot(X,w.T))\n",
        "    w = w - (alpha/len(y)) * np.dot(hypothesis - y, X) - ((alpha*lamb/2)*np.sign(w))\n",
        "    cost_history[i] = cost_function_l1(X,y,w,lamb)\n",
        "  return w,cost_history"
      ]
    },
    {
      "cell_type": "code",
      "source": [
        "def batch_gradient_descent_l2(X,y,w,alpha,iters,lamb):\n",
        "  cost_history = np.zeros(iters)\n",
        "  \n",
        " # cost function for each iteration\n",
        "  #initalize our cost history list to store the cost function on every iteration\n",
        "  for i in range(iters):\n",
        "    hypothesis = sigmoid(np.dot(X,w.T))\n",
        "    w = w*(1-alpha*lamb) - (alpha/len(y)) * np.dot(hypothesis - y, X)\n",
        "    cost_history[i] = cost_function_l1(X,y,w,lamb)\n",
        "  return w,cost_history"
      ],
      "metadata": {
        "id": "HKl4PHt7cskM"
      },
      "execution_count": 16,
      "outputs": []
    },
    {
      "cell_type": "markdown",
      "source": [
        "INITIALISING THE WEIGHT VECTOR"
      ],
      "metadata": {
        "id": "aGKO6r__Ygzy"
      }
    },
    {
      "cell_type": "code",
      "source": [
        "\n",
        "w = np.random.randn(1,X.shape[1]).ravel()\n",
        "w1 = np.random.randn(1,X.shape[1]).ravel()\n",
        "w2 = np.zeros((1,X.shape[1])).ravel()\n",
        "\n"
      ],
      "metadata": {
        "id": "xvSZmGw9UPG8"
      },
      "execution_count": 17,
      "outputs": []
    },
    {
      "cell_type": "markdown",
      "source": [
        "IMPLEMENTING LOR WITH BATCH GRADIENT DESCENT"
      ],
      "metadata": {
        "id": "_FhZnUylYo-W"
      }
    },
    {
      "cell_type": "code",
      "source": [
        "alpha=0.12 ##learning rate\n",
        "iters=900 ###iterations\n",
        "X_train=X\n",
        "y_train=y\n",
        "batch_w,J_his = batch_gradient_descent(X_train,y_train,w1,alpha,iters)\n",
        "plt.plot(range(iters),J_his)\n",
        "# print(J_his)\n",
        "plt.show()"
      ],
      "metadata": {
        "colab": {
          "base_uri": "https://localhost:8080/",
          "height": 265
        },
        "id": "qfj53y8AVTYr",
        "outputId": "17de2c85-5b0b-4aff-af7e-9eb9393fcffb"
      },
      "execution_count": 18,
      "outputs": [
        {
          "output_type": "display_data",
          "data": {
            "image/png": "[encoded data removed]",
            "text/plain": [
              "<Figure size 432x288 with 1 Axes>"
            ]
          },
          "metadata": {
            "needs_background": "light"
          }
        }
      ]
    },
    {
      "cell_type": "code",
      "source": [
        "z_bgd = np.dot(Xte, batch_w.T)\n",
        "h_bgd = sigmoid(z_bgd)\n",
        "y_pred_bgd=h_bgd\n",
        "y_pred_bgd=h_bgd>0.5\n",
        "y_pred_bgd=y_pred_bgd.astype(int)\n",
        "\n"
      ],
      "metadata": {
        "id": "qWVE12qTQzbv"
      },
      "execution_count": 19,
      "outputs": []
    },
    {
      "cell_type": "code",
      "source": [
        "cm=confusion_matrix(Yte, y_pred_bgd)\n",
        "print(cm)\n",
        "\n",
        "tp = cm[1][1]\n",
        "tn = cm[0][0]\n",
        "fp = cm[0][1]\n",
        "fn = cm[1][0]\n",
        "\n",
        "Acc = (tp+tn)/(tp+tn+fp+fn)\n",
        "SE = tp/(tp+fn)\n",
        "SP = tn/(tn+fp)\n",
        "\n",
        "print('Accuracy : ' + str(Acc))\n",
        "print('sensitivity : ' + str(SE))\n",
        "print('specificity : ' + str(SP))"
      ],
      "metadata": {
        "colab": {
          "base_uri": "https://localhost:8080/",
          "height": 0
        },
        "id": "xLYamO7iaHyx",
        "outputId": "9e89a52b-a995-4d8a-8428-11189942c78a"
      },
      "execution_count": 20,
      "outputs": [
        {
          "output_type": "stream",
          "name": "stdout",
          "text": [
            "[[56  2]\n",
            " [58  3]]\n",
            "Accuracy : 0.4957983193277311\n",
            "sensitivity : 0.04918032786885246\n",
            "specificity : 0.9655172413793104\n"
          ]
        }
      ]
    },
    {
      "cell_type": "markdown",
      "source": [
        "IMPLEMENTING LOR WITH BATCH GRADIENT DESCENT WITH L1 NORM REGULARISATION"
      ],
      "metadata": {
        "id": "DPbJWzETYvAq"
      }
    },
    {
      "cell_type": "code",
      "source": [
        "alpha=0.005 ##learning rate\n",
        "iters=7000 ###iterations\n",
        "lamb=1\n",
        "X_train=X\n",
        "y_train=y\n",
        "batch_w_l1,J_his_l1 = batch_gradient_descent_l1(X_train,y_train,w,alpha,iters,lamb)\n",
        "plt.plot(range(iters),J_his_l1)\n",
        "plt.show()\n"
      ],
      "metadata": {
        "colab": {
          "base_uri": "https://localhost:8080/",
          "height": 265
        },
        "id": "8fri87_WZJ-B",
        "outputId": "8c170584-1f11-45e4-d898-0d0c2e0ee9eb"
      },
      "execution_count": 21,
      "outputs": [
        {
          "output_type": "display_data",
          "data": {
            "image/png": "[encoded data removed]",
            "text/plain": [
              "<Figure size 432x288 with 1 Axes>"
            ]
          },
          "metadata": {
            "needs_background": "light"
          }
        }
      ]
    },
    {
      "cell_type": "code",
      "source": [
        "z_bgd_l1 = np.dot(Xte, batch_w_l1.T)\n",
        "h_bgd_l1 = sigmoid(z_bgd_l1)\n",
        "y_pred_bgd_l1=h_bgd_l1>0.5\n",
        "y_pred_bgd_l1=y_pred_bgd_l1.astype(int)\n"
      ],
      "metadata": {
        "id": "8IEtZIhEZ0AJ"
      },
      "execution_count": 22,
      "outputs": []
    },
    {
      "cell_type": "code",
      "source": [
        "cm=confusion_matrix(Yte, y_pred_bgd_l1)\n",
        "print(cm)\n",
        "\n",
        "tp = cm[1][1]\n",
        "tn = cm[0][0]\n",
        "fp = cm[0][1]\n",
        "fn = cm[1][0]\n",
        "\n",
        "Acc = (tp+tn)/(tp+tn+fp+fn)\n",
        "SE = tp/(tp+fn)\n",
        "SP = tn/(tn+fp)\n",
        "\n",
        "print('Accuracy : ' + str(Acc))\n",
        "print('sensitivity : ' + str(SE))\n",
        "print('specificity : ' + str(SP))"
      ],
      "metadata": {
        "colab": {
          "base_uri": "https://localhost:8080/",
          "height": 0
        },
        "id": "XtV6zKXYbhhK",
        "outputId": "c2dca549-7dd1-4ea1-9912-e4ba40fa01da"
      },
      "execution_count": 23,
      "outputs": [
        {
          "output_type": "stream",
          "name": "stdout",
          "text": [
            "[[17 41]\n",
            " [15 46]]\n",
            "Accuracy : 0.5294117647058824\n",
            "sensitivity : 0.7540983606557377\n",
            "specificity : 0.29310344827586204\n"
          ]
        }
      ]
    },
    {
      "cell_type": "markdown",
      "source": [
        "IMPLEMENTING LOR WITH BATCH GRADIENT DESCENT WITH L2 NORM REGULARISATION"
      ],
      "metadata": {
        "id": "zjGwRj9mY27S"
      }
    },
    {
      "cell_type": "code",
      "source": [
        "alpha=0.02 ##learning rate\n",
        "iters=1500 ###iterations\n",
        "lamb=1\n",
        "X_train=X\n",
        "y_train=y\n",
        "batch_w_l2,J_his_l2 = batch_gradient_descent_l2(X_train,y_train,w1,alpha,iters,lamb)\n",
        "plt.plot(range(iters),J_his_l2)\n",
        "plt.show()\n"
      ],
      "metadata": {
        "colab": {
          "base_uri": "https://localhost:8080/",
          "height": 265
        },
        "id": "n8Afmf0Lch1x",
        "outputId": "0655351a-eda0-46ee-b9f0-7907b3e8a44e"
      },
      "execution_count": 24,
      "outputs": [
        {
          "output_type": "display_data",
          "data": {
            "image/png": "[encoded data removed]",
            "text/plain": [
              "<Figure size 432x288 with 1 Axes>"
            ]
          },
          "metadata": {
            "needs_background": "light"
          }
        }
      ]
    },
    {
      "cell_type": "code",
      "source": [
        "z_bgd_l2 = np.dot(Xte, batch_w_l2.T)\n",
        "h_bgd_l2 = sigmoid(z_bgd_l2)\n",
        "y_pred_bgd_l2=h_bgd_l2>0.5\n",
        "y_pred_bgd_l2=y_pred_bgd_l2.astype(int)\n"
      ],
      "metadata": {
        "id": "iOAKoKGNZxGO"
      },
      "execution_count": 25,
      "outputs": []
    },
    {
      "cell_type": "code",
      "source": [
        "cm=confusion_matrix(Yte, y_pred_bgd_l2)\n",
        "print(cm)\n",
        "\n",
        "tp = cm[1][1]\n",
        "tn = cm[0][0]\n",
        "fp = cm[0][1]\n",
        "fn = cm[1][0]\n",
        "\n",
        "Acc = (tp+tn)/(tp+tn+fp+fn)\n",
        "SE = tp/(tp+fn)\n",
        "SP = tn/(tn+fp)\n",
        "\n",
        "print('Accuracy : ' + str(Acc))\n",
        "print('sensitivity : ' + str(SE))\n",
        "print('specificity : ' + str(SP))\n"
      ],
      "metadata": {
        "colab": {
          "base_uri": "https://localhost:8080/",
          "height": 0
        },
        "id": "ZlQ5H_x7dFnz",
        "outputId": "fddbc2e6-c799-4520-e60f-c129fa63de8e"
      },
      "execution_count": 26,
      "outputs": [
        {
          "output_type": "stream",
          "name": "stdout",
          "text": [
            "[[32 26]\n",
            " [37 24]]\n",
            "Accuracy : 0.47058823529411764\n",
            "sensitivity : 0.39344262295081966\n",
            "specificity : 0.5517241379310345\n"
          ]
        }
      ]
    }
  ]
}