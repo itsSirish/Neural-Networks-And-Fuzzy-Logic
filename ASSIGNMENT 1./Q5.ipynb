{
  "nbformat": 4,
  "nbformat_minor": 0,
  "metadata": {
    "colab": {
      "name": "Q5.ipynb",
      "provenance": [],
      "collapsed_sections": []
    },
    "kernelspec": {
      "name": "python3",
      "display_name": "Python 3"
    },
    "language_info": {
      "name": "python"
    }
  },
  "cells": [
    {
      "cell_type": "markdown",
      "source": [
        "Q5"
      ],
      "metadata": {
        "id": "P5hIOSJ7p1mG"
      }
    },
    {
      "cell_type": "markdown",
      "source": [
        "MOUNTING THE DRIVE"
      ],
      "metadata": {
        "id": "A7MbXjPFfdP6"
      }
    },
    {
      "cell_type": "code",
      "source": [
        "from google.colab import drive\n",
        "drive.mount('/content/drive')"
      ],
      "metadata": {
        "colab": {
          "base_uri": "https://localhost:8080/",
          "height": 0
        },
        "id": "m7pcMMeHEki6",
        "outputId": "bc5b522d-2175-4050-f1b7-e9a6f1138da7"
      },
      "execution_count": 1,
      "outputs": [
        {
          "output_type": "stream",
          "name": "stdout",
          "text": [
            "Mounted at /content/drive\n"
          ]
        }
      ]
    },
    {
      "cell_type": "markdown",
      "source": [
        "importing libraries"
      ],
      "metadata": {
        "id": "fdyJd4H3fey0"
      }
    },
    {
      "cell_type": "code",
      "source": [
        "import pandas as pd\n",
        "import math\n",
        "import numpy as np\n",
        "import matplotlib.pyplot as plt\n",
        "import sklearn\n",
        "np.random.seed(0)"
      ],
      "metadata": {
        "id": "vQFxblvTEt_K"
      },
      "execution_count": 2,
      "outputs": []
    },
    {
      "cell_type": "markdown",
      "source": [
        "DEFINING LIKELIHOOD FUNCTION"
      ],
      "metadata": {
        "id": "qUq-HcI0fh0V"
      }
    },
    {
      "cell_type": "code",
      "source": [
        "def likelihood_function(X, cov, mean):\n",
        "    return ((1 / (np.power((2 * np.pi), X.shape[0] / 2) * np.sqrt(np.linalg.det(cov)))) * np.exp(-0.5 * (((X - mean)).dot((np.linalg.inv(cov)).dot((X - mean).T)))))"
      ],
      "metadata": {
        "id": "q4iGXnfDexA_"
      },
      "execution_count": 3,
      "outputs": []
    },
    {
      "cell_type": "markdown",
      "source": [
        "DEFINING MEAN FUNCTION"
      ],
      "metadata": {
        "id": "1avAlwipfkh_"
      }
    },
    {
      "cell_type": "code",
      "source": [
        "def mean(A): \n",
        "    m = []\n",
        "    A=np.array(A)\n",
        "    for i in range(A.shape[1]):\n",
        "        m.append(sum(A[:,i])/len(A))\n",
        "    return m\n"
      ],
      "metadata": {
        "id": "yHsEHcEDeyvC"
      },
      "execution_count": 4,
      "outputs": []
    },
    {
      "cell_type": "markdown",
      "source": [
        "DEFINING Maximum likelihood (ML) FUNCTION"
      ],
      "metadata": {
        "id": "fuvyr-7nfobo"
      }
    },
    {
      "cell_type": "code",
      "source": [
        "def ML(test_X,mn,cov):\n",
        "  res=[]\n",
        "  for i in range(len(mn)):\n",
        "    res.append(likelihood_function(test_X,cov[i],mn[i]))\n",
        "  return (np.argmax(res))"
      ],
      "metadata": {
        "id": "kZkZGoMWfM9S"
      },
      "execution_count": 5,
      "outputs": []
    },
    {
      "cell_type": "markdown",
      "source": [
        "DEFINING maximum a posteriori (MAP) FUNCTION"
      ],
      "metadata": {
        "id": "T3LUrT76fxlY"
      }
    },
    {
      "cell_type": "code",
      "source": [
        "def MAP(test_X,Py,mn,cov):\n",
        "  res=[]\n",
        "  for i in range(len(mn)):\n",
        "    res.append(likelihood_function(test_X,cov[i],mn[i])*Py[i])\n",
        "\n",
        "  return (np.argmax(res))"
      ],
      "metadata": {
        "id": "ZrX3ojZke1vL"
      },
      "execution_count": 6,
      "outputs": []
    },
    {
      "cell_type": "markdown",
      "source": [
        "LOADING DATA"
      ],
      "metadata": {
        "id": "ffPCM0PIf3hs"
      }
    },
    {
      "cell_type": "code",
      "source": [
        "df=pd.read_excel('/content/drive/MyDrive/nnfl data/data.xlsx',header=None)"
      ],
      "metadata": {
        "id": "waMgvltZe4tx"
      },
      "execution_count": 7,
      "outputs": []
    },
    {
      "cell_type": "code",
      "source": [
        "for i in range(df.shape[1]-1):\n",
        "    df[i]=(df[i]-df[i].mean())/df[i].std()"
      ],
      "metadata": {
        "id": "O87dqXJ0e6Te"
      },
      "execution_count": 8,
      "outputs": []
    },
    {
      "cell_type": "markdown",
      "source": [
        "SPLITTING DATA INTO TRAINING AND TESTING"
      ],
      "metadata": {
        "id": "etOa4n5of6bo"
      }
    },
    {
      "cell_type": "code",
      "source": [
        "train, test = np.split(df.sample(frac=1, random_state=10),[int(0.7 * len(df))])\n",
        "train=np.asarray(train)\n",
        "test=np.asarray(test)\n",
        "train_X=train[:,0:train.shape[1]-1]\n",
        "train_Y=train[:,train.shape[1]-1]\n",
        "test_X=test[:,0:test.shape[1]-1]\n",
        "test_Y=test[:,test.shape[1]-1]"
      ],
      "metadata": {
        "id": "xC_zTHE_e8hy"
      },
      "execution_count": 9,
      "outputs": []
    },
    {
      "cell_type": "code",
      "source": [
        "Py=[]\n",
        "mn=[]\n",
        "cov=[]\n",
        "for j in np.unique(train_Y):\n",
        "  Py.append(len([i for (i, val) in enumerate(train_Y) if val == j])/len(train_Y))\n",
        "  x = np.array([train_X[i] for (i, val) in enumerate(train_Y) if val == j])\n",
        "  mn.append(mean(x));\n",
        "  cov.append(np.cov(x.T))\n",
        "mn=np.array(mn)\n",
        "cov=np.array(cov)"
      ],
      "metadata": {
        "id": "Sro0iaFke-1q"
      },
      "execution_count": 10,
      "outputs": []
    },
    {
      "cell_type": "markdown",
      "source": [
        "IMPLEMENTING MAP"
      ],
      "metadata": {
        "id": "d94GA-yXgFIi"
      }
    },
    {
      "cell_type": "code",
      "source": [
        "ypred=[]\n",
        "for i in range(len(test_X)):\n",
        "  ypred.append(MAP(test_X[i],Py,mn,cov)+1)\n",
        "\n",
        "ypred=np.array(ypred)\n",
        "\n",
        "df_confusion = pd.crosstab(test_Y, ypred)\n",
        "df_confusion\n",
        "\n",
        "df_confusion=np.array(df_confusion)\n",
        "row_sum=0.0;\n",
        "overall_sum=0.0;\n",
        "dia_el=0.0"
      ],
      "metadata": {
        "id": "AuECGrw5fAge"
      },
      "execution_count": 11,
      "outputs": []
    },
    {
      "cell_type": "markdown",
      "source": [
        "ACCURACY WITH MAP"
      ],
      "metadata": {
        "id": "NG8AAEIpgHT2"
      }
    },
    {
      "cell_type": "code",
      "source": [
        "for i in range(df_confusion.shape[0]):\n",
        "  row_sum=np.sum(df_confusion[i,:])\n",
        "  overall_sum +=row_sum\n",
        "  acc=np.round(df_confusion[i,i]/row_sum,5)*100;\n",
        "  dia_el+=df_confusion[i,i]\n",
        "  print(\"Accuracy for class \"+str(i+1)+\" is {}%\\n\".format(acc))"
      ],
      "metadata": {
        "colab": {
          "base_uri": "https://localhost:8080/",
          "height": 0
        },
        "id": "J-auPDhUfCy7",
        "outputId": "c29828be-cf0f-43bc-9d7f-d0e92c383ed8"
      },
      "execution_count": 12,
      "outputs": [
        {
          "output_type": "stream",
          "name": "stdout",
          "text": [
            "Accuracy for class 1 is 27.426000000000002%\n",
            "\n",
            "Accuracy for class 2 is 29.412%\n",
            "\n",
            "Accuracy for class 3 is 21.132%\n",
            "\n",
            "Accuracy for class 4 is 25.2%\n",
            "\n"
          ]
        }
      ]
    },
    {
      "cell_type": "code",
      "source": [
        "ov_acc=np.round((dia_el/overall_sum),5)*100\n",
        "print(\"Overall Accuracy for the model is {}%\\n\".format(ov_acc))"
      ],
      "metadata": {
        "colab": {
          "base_uri": "https://localhost:8080/",
          "height": 0
        },
        "id": "d_NqKjR3CBGn",
        "outputId": "39bc58b6-8bcd-4728-a4e1-5ea5bba5c1c4"
      },
      "execution_count": 13,
      "outputs": [
        {
          "output_type": "stream",
          "name": "stdout",
          "text": [
            "Overall Accuracy for the model is 25.781%\n",
            "\n"
          ]
        }
      ]
    },
    {
      "cell_type": "markdown",
      "source": [
        "IMPLEMENTING ML"
      ],
      "metadata": {
        "id": "grrvjRU5gKj0"
      }
    },
    {
      "cell_type": "code",
      "source": [
        "ypred=[]\n",
        "for i in range(len(test_X)):\n",
        "  ypred.append(ML(test_X[i], mn ,cov)+1)"
      ],
      "metadata": {
        "id": "1opfos6sfZVC"
      },
      "execution_count": 14,
      "outputs": []
    },
    {
      "cell_type": "code",
      "source": [
        "ypred=np.array(ypred)\n",
        "df_confusion = pd.crosstab(test_Y, ypred)\n",
        "df_confusion"
      ],
      "metadata": {
        "colab": {
          "base_uri": "https://localhost:8080/",
          "height": 200
        },
        "id": "LSiJpQ09fahO",
        "outputId": "cc4d4633-9298-410f-bf4a-42085cd3e6ab"
      },
      "execution_count": 15,
      "outputs": [
        {
          "output_type": "execute_result",
          "data": {
            "text/html": [
              "\n",
              "  <div id=\"df-e7bfdc5f-3f37-4af5-818b-1b81d69184e9\">\n",
              "    <div class=\"colab-df-container\">\n",
              "      <div>\n",
              "<style scoped>\n",
              "    .dataframe tbody tr th:only-of-type {\n",
              "        vertical-align: middle;\n",
              "    }\n",
              "\n",
              "    .dataframe tbody tr th {\n",
              "        vertical-align: top;\n",
              "    }\n",
              "\n",
              "    .dataframe thead th {\n",
              "        text-align: right;\n",
              "    }\n",
              "</style>\n",
              "<table border=\"1\" class=\"dataframe\">\n",
              "  <thead>\n",
              "    <tr style=\"text-align: right;\">\n",
              "      <th>col_0</th>\n",
              "      <th>1</th>\n",
              "      <th>2</th>\n",
              "      <th>3</th>\n",
              "      <th>4</th>\n",
              "    </tr>\n",
              "    <tr>\n",
              "      <th>row_0</th>\n",
              "      <th></th>\n",
              "      <th></th>\n",
              "      <th></th>\n",
              "      <th></th>\n",
              "    </tr>\n",
              "  </thead>\n",
              "  <tbody>\n",
              "    <tr>\n",
              "      <th>1.0</th>\n",
              "      <td>64</td>\n",
              "      <td>47</td>\n",
              "      <td>52</td>\n",
              "      <td>74</td>\n",
              "    </tr>\n",
              "    <tr>\n",
              "      <th>2.0</th>\n",
              "      <td>62</td>\n",
              "      <td>80</td>\n",
              "      <td>53</td>\n",
              "      <td>77</td>\n",
              "    </tr>\n",
              "    <tr>\n",
              "      <th>3.0</th>\n",
              "      <td>73</td>\n",
              "      <td>63</td>\n",
              "      <td>57</td>\n",
              "      <td>72</td>\n",
              "    </tr>\n",
              "    <tr>\n",
              "      <th>4.0</th>\n",
              "      <td>60</td>\n",
              "      <td>56</td>\n",
              "      <td>71</td>\n",
              "      <td>63</td>\n",
              "    </tr>\n",
              "  </tbody>\n",
              "</table>\n",
              "</div>\n",
              "      <button class=\"colab-df-convert\" onclick=\"convertToInteractive('df-e7bfdc5f-3f37-4af5-818b-1b81d69184e9')\"\n",
              "              title=\"Convert this dataframe to an interactive table.\"\n",
              "              style=\"display:none;\">\n",
              "        \n",
              "  <svg xmlns=\"http://www.w3.org/2000/svg\" height=\"24px\"viewBox=\"0 0 24 24\"\n",
              "       width=\"24px\">\n",
              "    <path d=\"M0 0h24v24H0V0z\" fill=\"none\"/>\n",
              "    <path d=\"M18.56 5.44l.94 2.06.94-2.06 2.06-.94-2.06-.94-.94-2.06-.94 2.06-2.06.94zm-11 1L8.5 8.5l.94-2.06 2.06-.94-2.06-.94L8.5 2.5l-.94 2.06-2.06.94zm10 10l.94 2.06.94-2.06 2.06-.94-2.06-.94-.94-2.06-.94 2.06-2.06.94z\"/><path d=\"M17.41 7.96l-1.37-1.37c-.4-.4-.92-.59-1.43-.59-.52 0-1.04.2-1.43.59L10.3 9.45l-7.72 7.72c-.78.78-.78 2.05 0 2.83L4 21.41c.39.39.9.59 1.41.59.51 0 1.02-.2 1.41-.59l7.78-7.78 2.81-2.81c.8-.78.8-2.07 0-2.86zM5.41 20L4 18.59l7.72-7.72 1.47 1.35L5.41 20z\"/>\n",
              "  </svg>\n",
              "      </button>\n",
              "      \n",
              "  <style>\n",
              "    .colab-df-container {\n",
              "      display:flex;\n",
              "      flex-wrap:wrap;\n",
              "      gap: 12px;\n",
              "    }\n",
              "\n",
              "    .colab-df-convert {\n",
              "      background-color: #E8F0FE;\n",
              "      border: none;\n",
              "      border-radius: 50%;\n",
              "      cursor: pointer;\n",
              "      display: none;\n",
              "      fill: #1967D2;\n",
              "      height: 32px;\n",
              "      padding: 0 0 0 0;\n",
              "      width: 32px;\n",
              "    }\n",
              "\n",
              "    .colab-df-convert:hover {\n",
              "      background-color: #E2EBFA;\n",
              "      box-shadow: 0px 1px 2px rgba(60, 64, 67, 0.3), 0px 1px 3px 1px rgba(60, 64, 67, 0.15);\n",
              "      fill: #174EA6;\n",
              "    }\n",
              "\n",
              "    [theme=dark] .colab-df-convert {\n",
              "      background-color: #3B4455;\n",
              "      fill: #D2E3FC;\n",
              "    }\n",
              "\n",
              "    [theme=dark] .colab-df-convert:hover {\n",
              "      background-color: #434B5C;\n",
              "      box-shadow: 0px 1px 3px 1px rgba(0, 0, 0, 0.15);\n",
              "      filter: drop-shadow(0px 1px 2px rgba(0, 0, 0, 0.3));\n",
              "      fill: #FFFFFF;\n",
              "    }\n",
              "  </style>\n",
              "\n",
              "      <script>\n",
              "        const buttonEl =\n",
              "          document.querySelector('#df-e7bfdc5f-3f37-4af5-818b-1b81d69184e9 button.colab-df-convert');\n",
              "        buttonEl.style.display =\n",
              "          google.colab.kernel.accessAllowed ? 'block' : 'none';\n",
              "\n",
              "        async function convertToInteractive(key) {\n",
              "          const element = document.querySelector('#df-e7bfdc5f-3f37-4af5-818b-1b81d69184e9');\n",
              "          const dataTable =\n",
              "            await google.colab.kernel.invokeFunction('convertToInteractive',\n",
              "                                                     [key], {});\n",
              "          if (!dataTable) return;\n",
              "\n",
              "          const docLinkHtml = 'Like what you see? Visit the ' +\n",
              "            '<a target=\"_blank\" href=https://colab.research.google.com/notebooks/data_table.ipynb>data table notebook</a>'\n",
              "            + ' to learn more about interactive tables.';\n",
              "          element.innerHTML = '';\n",
              "          dataTable['output_type'] = 'display_data';\n",
              "          await google.colab.output.renderOutput(dataTable, element);\n",
              "          const docLink = document.createElement('div');\n",
              "          docLink.innerHTML = docLinkHtml;\n",
              "          element.appendChild(docLink);\n",
              "        }\n",
              "      </script>\n",
              "    </div>\n",
              "  </div>\n",
              "  "
            ],
            "text/plain": [
              "col_0   1   2   3   4\n",
              "row_0                \n",
              "1.0    64  47  52  74\n",
              "2.0    62  80  53  77\n",
              "3.0    73  63  57  72\n",
              "4.0    60  56  71  63"
            ]
          },
          "metadata": {},
          "execution_count": 15
        }
      ]
    },
    {
      "cell_type": "markdown",
      "source": [
        "ACCURACY WITH ML"
      ],
      "metadata": {
        "id": "kTrthRuwgMwU"
      }
    },
    {
      "cell_type": "code",
      "source": [
        "\n",
        "df_confusion=np.array(df_confusion)\n",
        "row_sum=0.0;\n",
        "overall_sum=0.0;\n",
        "dia_el=0.0\n",
        "for i in range(df_confusion.shape[0]):\n",
        "  row_sum=np.sum(df_confusion[i,:])\n",
        "  overall_sum +=row_sum\n",
        "  acc=np.round(df_confusion[i,i]/row_sum,5)*100;\n",
        "  dia_el+=df_confusion[i,i]\n",
        "  print(\"Accuracy for class \"+str(i+1)+\" is {}%\\n\".format(acc))"
      ],
      "metadata": {
        "colab": {
          "base_uri": "https://localhost:8080/",
          "height": 0
        },
        "id": "GZbgSOI-fcbG",
        "outputId": "fa104cf8-eb41-41ed-8efc-d1d73e6b9c9f"
      },
      "execution_count": 16,
      "outputs": [
        {
          "output_type": "stream",
          "name": "stdout",
          "text": [
            "Accuracy for class 1 is 27.004%\n",
            "\n",
            "Accuracy for class 2 is 29.412%\n",
            "\n",
            "Accuracy for class 3 is 21.509%\n",
            "\n",
            "Accuracy for class 4 is 25.2%\n",
            "\n"
          ]
        }
      ]
    },
    {
      "cell_type": "code",
      "source": [
        "ov_acc=np.round((dia_el/overall_sum),5)*100\n",
        "print(\"Overall Accuracy for the model is {}%\\n\".format(ov_acc))"
      ],
      "metadata": {
        "colab": {
          "base_uri": "https://localhost:8080/",
          "height": 0
        },
        "id": "X69d44HdfioC",
        "outputId": "ea9b9fe4-3a71-42c7-9027-9662ff8063f9"
      },
      "execution_count": 17,
      "outputs": [
        {
          "output_type": "stream",
          "name": "stdout",
          "text": [
            "Overall Accuracy for the model is 25.781%\n",
            "\n"
          ]
        }
      ]
    }
  ]
}