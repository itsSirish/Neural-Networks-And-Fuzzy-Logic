{
  "nbformat": 4,
  "nbformat_minor": 0,
  "metadata": {
    "colab": {
      "name": "NNFL_2_2.ipynb",
      "provenance": []
    },
    "kernelspec": {
      "name": "python3",
      "display_name": "Python 3"
    },
    "language_info": {
      "name": "python"
    }
  },
  "cells": [
    {
      "cell_type": "code",
      "source": [
        "from google.colab import drive\n",
        "drive.mount('/content/drive')"
      ],
      "metadata": {
        "colab": {
          "base_uri": "https://localhost:8080/"
        },
        "id": "v1pzHG_903Eb",
        "outputId": "72e0eb5e-1f72-4cca-c78f-5cf08c048240"
      },
      "execution_count": null,
      "outputs": [
        {
          "output_type": "stream",
          "name": "stdout",
          "text": [
            "Drive already mounted at /content/drive; to attempt to forcibly remount, call drive.mount(\"/content/drive\", force_remount=True).\n"
          ]
        }
      ]
    },
    {
      "cell_type": "code",
      "metadata": {
        "id": "Wtn8wX_uwc7m"
      },
      "source": [
        "import numpy as np\n",
        "import pandas as pd\n",
        "import matplotlib.pyplot as plt \n",
        "np.random.seed(0)"
      ],
      "execution_count": null,
      "outputs": []
    },
    {
      "cell_type": "code",
      "metadata": {
        "id": "n2VGFYVPwirT"
      },
      "source": [
        "data=pd.read_excel('/content/drive/MyDrive/NNFL data/Data_A2/data55.xlsx')"
      ],
      "execution_count": null,
      "outputs": []
    },
    {
      "cell_type": "code",
      "metadata": {
        "id": "YZcGeK2r2DW-"
      },
      "source": [
        "data=data.sample(frac=1,random_state=50)\n",
        "data.head()"
      ],
      "execution_count": null,
      "outputs": []
    },
    {
      "cell_type": "code",
      "metadata": {
        "id": "f7ZY533B2OKC"
      },
      "source": [
        "dataset=np.array(data)#converting data"
      ],
      "execution_count": null,
      "outputs": []
    },
    {
      "cell_type": "code",
      "metadata": {
        "id": "5Sve9Mj_wlqp"
      },
      "source": [
        "dataset"
      ],
      "execution_count": null,
      "outputs": []
    },
    {
      "cell_type": "code",
      "metadata": {
        "id": "xDeQrgKA4b0u"
      },
      "source": [
        "#splitting data into input and output\n",
        "X=dataset[:,:-1]\n",
        "y=dataset[:,-1]\n",
        "\n",
        "#normalising dataset\n",
        "m=X.shape[0]\n",
        "xmin=np.min(X,axis=0)\n",
        "xmax=np.max(X,axis=0)\n",
        "X=(X-xmin)/(xmax-xmin)#performing normalization on input features \n",
        "pp=np.ones([m,1])\n",
        "X=np.append(pp,X,axis=1)"
      ],
      "execution_count": null,
      "outputs": []
    },
    {
      "cell_type": "code",
      "metadata": {
        "id": "mJbIUhwz4iav"
      },
      "source": [
        "#splitting dataset using hold out cross validation of 70 10 and 20\n",
        "X_train,X_valid,X_test=np.split(X,[int(.7*len(data)),int(.8*len(data))]) \n",
        "y_train,y_valid,y_test=np.split(y,[int(.7*len(data)),int(.8*len(data))])"
      ],
      "execution_count": null,
      "outputs": []
    },
    {
      "cell_type": "code",
      "metadata": {
        "id": "68a2dLQn4sH3"
      },
      "source": [
        "def sigmoid(a):\n",
        "  fa=(1.0/(1+np.exp(-a)))\n",
        "  return fa"
      ],
      "execution_count": null,
      "outputs": []
    },
    {
      "cell_type": "code",
      "metadata": {
        "id": "OhVZzBJY4u-7"
      },
      "source": [
        "def linear_kernel(x1, x2):\n",
        "    return np.dot(x1, x2)"
      ],
      "execution_count": null,
      "outputs": []
    },
    {
      "cell_type": "code",
      "metadata": {
        "id": "YSCgcw23WeJ7"
      },
      "source": [
        "def kernel_Matrix(X, Y):\n",
        "    k = (1 + np.matmul(X, Y.transpose()))**7\n",
        "    return k"
      ],
      "execution_count": null,
      "outputs": []
    },
    {
      "cell_type": "code",
      "metadata": {
        "id": "RjOyhSeyWhyE"
      },
      "source": [
        "def rbf_kernel(x, y, sigma=2.0):\n",
        "    return np.exp(-np.linalg.norm(x-y)**2 / (2 * (sigma ** 2)))"
      ],
      "execution_count": null,
      "outputs": []
    },
    {
      "cell_type": "code",
      "metadata": {
        "id": "ucmbP1yGWnMk"
      },
      "source": [
        "def kernel_Perceptron(X, Y, iterations,kernel_name):\n",
        "    n = len(X)\n",
        "    lossList = []\n",
        "    itrList = []\n",
        "    accuracyList = []\n",
        "    alphaList = []\n",
        "\n",
        "    alpha = np.zeros((n,))\n",
        "    if(kernel_name==\"kernel_Matrix\"):\n",
        "      kernel_Mat= kernel_Matrix(X, X) \n",
        "    elif(kernel_name==\"linear_kernel\"):\n",
        "      kernel_Mat=linear_kernel(X,Y)\n",
        "    else:\n",
        "      kernel_Mat=rbf_kernel(X,Y,2.0)  \n",
        "\n",
        "    itr = 0\n",
        "\n",
        "    while (itr < iterations):\n",
        "        loss=0\n",
        "        for i in range(n):\n",
        "            u = np.sign(np.matmul(kernel_Mat[i][:], alpha * Y))\n",
        "            if (u * Y[i] <= 0):\n",
        "                alpha[i] = alpha[i] + 1\n",
        "\n",
        "        for i in range(n):\n",
        "            u = np.sign(np.matmul(kernel_Mat[i][:], alpha * Y))\n",
        "            if (u * Y[i] <= 0):\n",
        "\n",
        "                loss = loss + 1\n",
        "        loss = loss * 1.0/ n\n",
        "        accuracy = (1-loss)*100\n",
        "        itrList.append(itr+1)\n",
        "        lossList.append(loss)\n",
        "        accuracyList.append(accuracy)\n",
        "        alphaList.append(alpha * 1)\n",
        "\n",
        "        itr = itr + 1\n",
        "    return alphaList, lossList, itrList, accuracyList, kernel_Mat"
      ],
      "execution_count": null,
      "outputs": []
    },
    {
      "cell_type": "code",
      "metadata": {
        "id": "YkC53kK7aGhu"
      },
      "source": [
        "def kernel_Perceptron_valid(xtrain, ytrain, xvalid, yvalid, weightList, iterations):\n",
        "    n=len(xvalid)\n",
        "    itr=0\n",
        "    lossList=[]\n",
        "    itrList=[]\n",
        "    accuracyList=[]\n",
        "    kernel_Mat= kernel_Matrix(xvalid, xtrain)\n",
        "\n",
        "    for alpha in weightList:\n",
        "        loss=0\n",
        "        for i in range(0,n):\n",
        "            u = np.sign(np.matmul(kernel_Mat[i][:], alpha * ytrain))\n",
        "            if (yvalid[i] * u <=0):\n",
        "                loss = loss+1\n",
        "\n",
        "        loss = loss * 1.0 / n\n",
        "        accuracy = (1-loss)*100\n",
        "        lossList.append(loss)\n",
        "        itrList.append(itr+1)\n",
        "        accuracyList.append(accuracy)\n",
        "        itr = itr + 1\n",
        "    return lossList, itrList, accuracyList"
      ],
      "execution_count": null,
      "outputs": []
    },
    {
      "cell_type": "code",
      "metadata": {
        "id": "80P7FKoTaLFJ"
      },
      "source": [
        "def kernel_Percep(xtrain, ytrain,kernel_name):\n",
        "\n",
        "    maxAccuracyList = []   \n",
        "    if(kernel_name==\"kernel_Matrix\"):\n",
        "      weightList, lossList, itrList, accuracyList, kernel_mat = kernel_Perceptron(xtrain, ytrain, 50, \"kernel_Matrix\")\n",
        "    #Validation\n",
        "    lossList, itrList, accuracyList = kernel_Perceptron_valid(xtrain, ytrain, X_valid, y_valid, weightList, 50)\n",
        "    maxAccur = max(accuracyList)\n",
        "    maxAccuracyList.append(maxAccur)\n",
        "\n",
        "    return maxAccuracyList"
      ],
      "execution_count": null,
      "outputs": []
    },
    {
      "cell_type": "code",
      "metadata": {
        "id": "I-NakQSZaZ9Q"
      },
      "source": [
        "maxAccuracyList = kernel_Percep(X_train, y_train)\n",
        "best_alpha = max(maxAccuracyList) \n",
        "print(best_alpha)"
      ],
      "execution_count": null,
      "outputs": []
    },
    {
      "cell_type": "code",
      "metadata": {
        "id": "9avtwRH2cg4H"
      },
      "source": [
        "best_alpha, lossList, itrList, accuracyList, kernel_mat = kernel_Perceptron(X_train, y_train, 50,\"kernel_Matrix\")"
      ],
      "execution_count": null,
      "outputs": []
    },
    {
      "cell_type": "code",
      "metadata": {
        "id": "uTaxOVPRsxoB"
      },
      "source": [
        "kernel_Mat = kernel_Matrix(X_test, X_train)\n",
        "alpha_test = best_alpha[5]\n",
        "\n",
        "def testvalues_y(X, W, k,ytest):\n",
        "    n = len(X_test)\n",
        "    predicted_Y= []\n",
        "    for i in range(n):\n",
        "        u = np.sign(np.matmul(kernel_Mat[i][:], alpha_test * y_train))\n",
        "        if u < 0:\n",
        "            u=0\n",
        "        predicted_Y.append(u)\n",
        "        print(\"Predicted: {0}, Actual: {1}\".format(int(u),int(y_test[i])))\n",
        "\n",
        "    return predicted_Y\n",
        "\n",
        "#get prediction values for test file\n",
        "y_pred_test= testvalues_y(X_test, alpha_test, kernel_Mat,y_test)"
      ],
      "execution_count": null,
      "outputs": []
    },
    {
      "cell_type": "code",
      "metadata": {
        "id": "ii6P9tZ2s8p7"
      },
      "source": [
        "def sas(ypred, ytest):\n",
        "    tp = tn = fp = fn = 0 #initialising true positive, true negative, false positive and false negative\n",
        "    m = ytest.shape[0]\n",
        "    for i in range(m):\n",
        "        if ypred[i] == 1:\n",
        "            if ytest[i] == 1:\n",
        "                tp+=1\n",
        "            else:\n",
        "                fp+=1\n",
        "        elif ypred[i] == -1:\n",
        "            if ytest[i] == 0:\n",
        "                tn+=1\n",
        "            else:\n",
        "                fn+=1\n",
        "    se = tp/(tp+fn)\n",
        "    sp = tn/(tn+fp)\n",
        "    ac = (tn+tp)/m\n",
        "    print(\"Sensitivity: {0}, Specificity: {1} and Accuracy: {2}\".format(se,sp,ac))\n",
        "\n",
        "sas(y_pred_test,y_test)"
      ],
      "execution_count": null,
      "outputs": []
    }
  ]
}