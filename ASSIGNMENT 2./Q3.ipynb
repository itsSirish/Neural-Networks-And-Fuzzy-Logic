{
  "nbformat": 4,
  "nbformat_minor": 0,
  "metadata": {
    "colab": {
      "name": "NNFL_A2_Q3.ipynb",
      "provenance": []
    },
    "kernelspec": {
      "name": "python3",
      "display_name": "Python 3"
    },
    "language_info": {
      "name": "python"
    }
  },
  "cells": [
    {
      "cell_type": "code",
      "source": [
        "from google.colab import drive\n",
        "drive.mount('/content/drive')"
      ],
      "metadata": {
        "colab": {
          "base_uri": "https://localhost:8080/",
          "height": 0
        },
        "id": "jZWSf2QT5B11",
        "outputId": "59eca846-f793-48cc-a70a-9105fae44bec"
      },
      "execution_count": 1,
      "outputs": [
        {
          "output_type": "stream",
          "name": "stdout",
          "text": [
            "Mounted at /content/drive\n"
          ]
        }
      ]
    },
    {
      "cell_type": "code",
      "metadata": {
        "id": "P9JLIJDR0qR1"
      },
      "source": [
        "import pandas as pd\n",
        "import numpy as np\n",
        "import scipy.io as sio\n",
        "import matplotlib.pyplot as plt\n",
        "from sklearn.cluster import KMeans\n",
        "from sklearn.model_selection import train_test_split\n",
        "from sklearn.model_selection import KFold"
      ],
      "execution_count": 2,
      "outputs": []
    },
    {
      "cell_type": "code",
      "metadata": {
        "id": "9w3aM9m_02cK"
      },
      "source": [
        "data=pd.read_excel('/content/drive/MyDrive/NNFL data/Data_A2/data5.xlsx')"
      ],
      "execution_count": 3,
      "outputs": []
    },
    {
      "cell_type": "code",
      "metadata": {
        "colab": {
          "base_uri": "https://localhost:8080/",
          "height": 0
        },
        "id": "ZOw8YPIpdjyx",
        "outputId": "fa1f68d7-3ebf-4097-f3ce-a6e455bef11a"
      },
      "source": [
        "data[data.columns[-1]].unique()"
      ],
      "execution_count": 5,
      "outputs": [
        {
          "output_type": "execute_result",
          "data": {
            "text/plain": [
              "array([1., 2., 3.])"
            ]
          },
          "metadata": {},
          "execution_count": 5
        }
      ]
    },
    {
      "cell_type": "code",
      "metadata": {
        "colab": {
          "base_uri": "https://localhost:8080/",
          "height": 206
        },
        "id": "p_GIrLP0dpN1",
        "outputId": "2dd7f621-3f14-4a94-9f37-516c6acd57fc"
      },
      "source": [
        "data=data.sample(frac=1)\n",
        "data.head()"
      ],
      "execution_count": 6,
      "outputs": [
        {
          "output_type": "execute_result",
          "data": {
            "text/plain": [
              "     15.260  14.840  0.871   5.763   3.312   2.221   5.220   1.000 \n",
              "51    14.49   14.61  0.8538   5.715   3.113   4.116   5.396     1.0\n",
              "83    19.51   16.71  0.8780   6.366   3.801   2.962   6.185     2.0\n",
              "96    18.98   16.57  0.8687   6.449   3.552   2.144   6.453     2.0\n",
              "3     16.14   14.99  0.9034   5.658   3.562   1.355   5.175     1.0\n",
              "173   10.83   12.96  0.8099   5.278   2.641   5.182   5.185     3.0"
            ],
            "text/html": [
              "\n",
              "  <div id=\"df-b36a6ec3-54a5-4b49-b383-b77a788c0bc3\">\n",
              "    <div class=\"colab-df-container\">\n",
              "      <div>\n",
              "<style scoped>\n",
              "    .dataframe tbody tr th:only-of-type {\n",
              "        vertical-align: middle;\n",
              "    }\n",
              "\n",
              "    .dataframe tbody tr th {\n",
              "        vertical-align: top;\n",
              "    }\n",
              "\n",
              "    .dataframe thead th {\n",
              "        text-align: right;\n",
              "    }\n",
              "</style>\n",
              "<table border=\"1\" class=\"dataframe\">\n",
              "  <thead>\n",
              "    <tr style=\"text-align: right;\">\n",
              "      <th></th>\n",
              "      <th>15.260</th>\n",
              "      <th>14.840</th>\n",
              "      <th>0.871</th>\n",
              "      <th>5.763</th>\n",
              "      <th>3.312</th>\n",
              "      <th>2.221</th>\n",
              "      <th>5.220</th>\n",
              "      <th>1.000</th>\n",
              "    </tr>\n",
              "  </thead>\n",
              "  <tbody>\n",
              "    <tr>\n",
              "      <th>51</th>\n",
              "      <td>14.49</td>\n",
              "      <td>14.61</td>\n",
              "      <td>0.8538</td>\n",
              "      <td>5.715</td>\n",
              "      <td>3.113</td>\n",
              "      <td>4.116</td>\n",
              "      <td>5.396</td>\n",
              "      <td>1.0</td>\n",
              "    </tr>\n",
              "    <tr>\n",
              "      <th>83</th>\n",
              "      <td>19.51</td>\n",
              "      <td>16.71</td>\n",
              "      <td>0.8780</td>\n",
              "      <td>6.366</td>\n",
              "      <td>3.801</td>\n",
              "      <td>2.962</td>\n",
              "      <td>6.185</td>\n",
              "      <td>2.0</td>\n",
              "    </tr>\n",
              "    <tr>\n",
              "      <th>96</th>\n",
              "      <td>18.98</td>\n",
              "      <td>16.57</td>\n",
              "      <td>0.8687</td>\n",
              "      <td>6.449</td>\n",
              "      <td>3.552</td>\n",
              "      <td>2.144</td>\n",
              "      <td>6.453</td>\n",
              "      <td>2.0</td>\n",
              "    </tr>\n",
              "    <tr>\n",
              "      <th>3</th>\n",
              "      <td>16.14</td>\n",
              "      <td>14.99</td>\n",
              "      <td>0.9034</td>\n",
              "      <td>5.658</td>\n",
              "      <td>3.562</td>\n",
              "      <td>1.355</td>\n",
              "      <td>5.175</td>\n",
              "      <td>1.0</td>\n",
              "    </tr>\n",
              "    <tr>\n",
              "      <th>173</th>\n",
              "      <td>10.83</td>\n",
              "      <td>12.96</td>\n",
              "      <td>0.8099</td>\n",
              "      <td>5.278</td>\n",
              "      <td>2.641</td>\n",
              "      <td>5.182</td>\n",
              "      <td>5.185</td>\n",
              "      <td>3.0</td>\n",
              "    </tr>\n",
              "  </tbody>\n",
              "</table>\n",
              "</div>\n",
              "      <button class=\"colab-df-convert\" onclick=\"convertToInteractive('df-b36a6ec3-54a5-4b49-b383-b77a788c0bc3')\"\n",
              "              title=\"Convert this dataframe to an interactive table.\"\n",
              "              style=\"display:none;\">\n",
              "        \n",
              "  <svg xmlns=\"http://www.w3.org/2000/svg\" height=\"24px\"viewBox=\"0 0 24 24\"\n",
              "       width=\"24px\">\n",
              "    <path d=\"M0 0h24v24H0V0z\" fill=\"none\"/>\n",
              "    <path d=\"M18.56 5.44l.94 2.06.94-2.06 2.06-.94-2.06-.94-.94-2.06-.94 2.06-2.06.94zm-11 1L8.5 8.5l.94-2.06 2.06-.94-2.06-.94L8.5 2.5l-.94 2.06-2.06.94zm10 10l.94 2.06.94-2.06 2.06-.94-2.06-.94-.94-2.06-.94 2.06-2.06.94z\"/><path d=\"M17.41 7.96l-1.37-1.37c-.4-.4-.92-.59-1.43-.59-.52 0-1.04.2-1.43.59L10.3 9.45l-7.72 7.72c-.78.78-.78 2.05 0 2.83L4 21.41c.39.39.9.59 1.41.59.51 0 1.02-.2 1.41-.59l7.78-7.78 2.81-2.81c.8-.78.8-2.07 0-2.86zM5.41 20L4 18.59l7.72-7.72 1.47 1.35L5.41 20z\"/>\n",
              "  </svg>\n",
              "      </button>\n",
              "      \n",
              "  <style>\n",
              "    .colab-df-container {\n",
              "      display:flex;\n",
              "      flex-wrap:wrap;\n",
              "      gap: 12px;\n",
              "    }\n",
              "\n",
              "    .colab-df-convert {\n",
              "      background-color: #E8F0FE;\n",
              "      border: none;\n",
              "      border-radius: 50%;\n",
              "      cursor: pointer;\n",
              "      display: none;\n",
              "      fill: #1967D2;\n",
              "      height: 32px;\n",
              "      padding: 0 0 0 0;\n",
              "      width: 32px;\n",
              "    }\n",
              "\n",
              "    .colab-df-convert:hover {\n",
              "      background-color: #E2EBFA;\n",
              "      box-shadow: 0px 1px 2px rgba(60, 64, 67, 0.3), 0px 1px 3px 1px rgba(60, 64, 67, 0.15);\n",
              "      fill: #174EA6;\n",
              "    }\n",
              "\n",
              "    [theme=dark] .colab-df-convert {\n",
              "      background-color: #3B4455;\n",
              "      fill: #D2E3FC;\n",
              "    }\n",
              "\n",
              "    [theme=dark] .colab-df-convert:hover {\n",
              "      background-color: #434B5C;\n",
              "      box-shadow: 0px 1px 3px 1px rgba(0, 0, 0, 0.15);\n",
              "      filter: drop-shadow(0px 1px 2px rgba(0, 0, 0, 0.3));\n",
              "      fill: #FFFFFF;\n",
              "    }\n",
              "  </style>\n",
              "\n",
              "      <script>\n",
              "        const buttonEl =\n",
              "          document.querySelector('#df-b36a6ec3-54a5-4b49-b383-b77a788c0bc3 button.colab-df-convert');\n",
              "        buttonEl.style.display =\n",
              "          google.colab.kernel.accessAllowed ? 'block' : 'none';\n",
              "\n",
              "        async function convertToInteractive(key) {\n",
              "          const element = document.querySelector('#df-b36a6ec3-54a5-4b49-b383-b77a788c0bc3');\n",
              "          const dataTable =\n",
              "            await google.colab.kernel.invokeFunction('convertToInteractive',\n",
              "                                                     [key], {});\n",
              "          if (!dataTable) return;\n",
              "\n",
              "          const docLinkHtml = 'Like what you see? Visit the ' +\n",
              "            '<a target=\"_blank\" href=https://colab.research.google.com/notebooks/data_table.ipynb>data table notebook</a>'\n",
              "            + ' to learn more about interactive tables.';\n",
              "          element.innerHTML = '';\n",
              "          dataTable['output_type'] = 'display_data';\n",
              "          await google.colab.output.renderOutput(dataTable, element);\n",
              "          const docLink = document.createElement('div');\n",
              "          docLink.innerHTML = docLinkHtml;\n",
              "          element.appendChild(docLink);\n",
              "        }\n",
              "      </script>\n",
              "    </div>\n",
              "  </div>\n",
              "  "
            ]
          },
          "metadata": {},
          "execution_count": 6
        }
      ]
    },
    {
      "cell_type": "code",
      "metadata": {
        "id": "oGNMJUj7dvsO"
      },
      "source": [
        "class_one = data[data.iloc[:,-1]==1][0:210]\n",
        "class_two = data[data.iloc[:,-1]==2][0:210]\n",
        "class_three = data[data.iloc[:,-1]==3][0:210]"
      ],
      "execution_count": 7,
      "outputs": []
    },
    {
      "cell_type": "code",
      "metadata": {
        "colab": {
          "base_uri": "https://localhost:8080/",
          "height": 297
        },
        "id": "yLPo451bd3RR",
        "outputId": "70a3b615-6623-49a1-81a5-0304c6f708e5"
      },
      "source": [
        "axes = class_one.plot(kind='scatter', x=1, y=2, color='blue', label='one')\n",
        "class_two.plot(kind='scatter', x=1, y=2, color='red', label='two', ax=axes)\n",
        "class_three.plot(kind='scatter', x=1, y=2, color='yellow', label='three', ax=axes)"
      ],
      "execution_count": 8,
      "outputs": [
        {
          "output_type": "execute_result",
          "data": {
            "text/plain": [
              "<matplotlib.axes._subplots.AxesSubplot at 0x7fd3c9dd1950>"
            ]
          },
          "metadata": {},
          "execution_count": 8
        },
        {
          "output_type": "display_data",
          "data": {
            "text/plain": [
              "<Figure size 432x288 with 1 Axes>"
            ],
            "image/png": "[encoded data removed]"
          },
          "metadata": {
            "needs_background": "light"
          }
        }
      ]
    },
    {
      "cell_type": "code",
      "metadata": {
        "id": "xML318-Dd597"
      },
      "source": [
        "def sigmoid(Z):\n",
        "    return 1/(1+np.exp(-Z)),Z"
      ],
      "execution_count": 9,
      "outputs": []
    },
    {
      "cell_type": "code",
      "metadata": {
        "id": "c77QivzKeDp7"
      },
      "source": [
        "def relu(Z):\n",
        "    A = np.maximum(0,Z)\n",
        "    return Z,A"
      ],
      "execution_count": 10,
      "outputs": []
    },
    {
      "cell_type": "code",
      "metadata": {
        "id": "iKqBXKwQeGs_"
      },
      "source": [
        "def relu_backward(dA, cache):\n",
        "    Z = cache    \n",
        "    dZ = np.array(dA, copy=True) \n",
        "    dZ[Z <= 0] = 0    \n",
        "    return dZ"
      ],
      "execution_count": 11,
      "outputs": []
    },
    {
      "cell_type": "code",
      "metadata": {
        "id": "QZmaWf1XeJbJ"
      },
      "source": [
        "def sigmoid_backward(dA, cache):\n",
        "    Z = cache    \n",
        "    s = 1/(1+np.exp(-Z))\n",
        "    dZ = dA * s * (1-s)\n",
        "    return dZ"
      ],
      "execution_count": 12,
      "outputs": []
    },
    {
      "cell_type": "code",
      "metadata": {
        "id": "fGJkcbtEeMY_"
      },
      "source": [
        "def initialize_parameters_deep(layer_dims):\n",
        "    parameters = {}\n",
        "    L = len(layer_dims)            \n",
        "    for l in range(1, L):\n",
        "        parameters['W' + str(l)] = np.random.randn(layer_dims[l],layer_dims[l-1])\n",
        "        parameters['b' + str(l)] = np.zeros((layer_dims[l],1))\n",
        "    return parameters"
      ],
      "execution_count": 13,
      "outputs": []
    },
    {
      "cell_type": "code",
      "metadata": {
        "id": "8EQK2VFTeQgO"
      },
      "source": [
        "def linear_forward(A,W,b):\n",
        "    Z = np.dot(W,A)+b\n",
        "    cache = (A, W, b)\n",
        "    return Z,cache"
      ],
      "execution_count": 14,
      "outputs": []
    },
    {
      "cell_type": "code",
      "metadata": {
        "id": "ODN8uc_KeT4J"
      },
      "source": [
        "def linear_activation_forward(A_prev,W,b,activation):\n",
        "    \n",
        "    if activation == \"sigmoid\":\n",
        "        Z, linear_cache = linear_forward(A_prev,W,b)\n",
        "        A, activation_cache = sigmoid(Z)\n",
        "    \n",
        "    elif activation == \"relu\":\n",
        "        Z, linear_cache = linear_forward(A_prev,W,b)\n",
        "        A, activation_cache = relu(Z)\n",
        "        \n",
        "    cache = (linear_cache, activation_cache)\n",
        "    \n",
        "    return A,cache"
      ],
      "execution_count": 15,
      "outputs": []
    },
    {
      "cell_type": "code",
      "metadata": {
        "id": "sO3h3jjXeXBi"
      },
      "source": [
        "def L_model_forward(X,parameters):\n",
        "    caches = []\n",
        "    A = X\n",
        "    L = len(parameters) //2\n",
        "    for l in range(1, L):\n",
        "        A_prev = A \n",
        "        A, cache = linear_activation_forward(A,parameters['W'+str(l)],parameters['b'+str(l)],\"sigmoid\")\n",
        "        caches.append(cache)\n",
        "    \n",
        "    AL, cache = linear_activation_forward(A,parameters['W'+str(L)],parameters['b'+str(L)],\"sigmoid\")\n",
        "    caches.append(cache)\n",
        "\n",
        "    return AL,caches"
      ],
      "execution_count": 16,
      "outputs": []
    },
    {
      "cell_type": "code",
      "metadata": {
        "id": "_anWDGcrgQio"
      },
      "source": [
        "def compute_cost(AL,Y):\n",
        "    m = Y.shape[1]\n",
        "    cost = -(1/m)*np.sum(Y*np.log(AL)+(1-Y)*np.log(1-AL))\n",
        "    cost = np.squeeze(cost)\n",
        "    return cost"
      ],
      "execution_count": 17,
      "outputs": []
    },
    {
      "cell_type": "code",
      "metadata": {
        "id": "EIGcmeIGgTCf"
      },
      "source": [
        "def linear_backward(dZ, cache):\n",
        "    A_prev, W, b = cache\n",
        "    m = A_prev.shape[1]\n",
        "    dW = (1/m)*np.dot(dZ,A_prev.T)\n",
        "    db = (1/m)*np.sum(dZ,axis=1,keepdims=True)\n",
        "    dA_prev = np.dot(W.T,dZ)\n",
        "   \n",
        "    return dA_prev, dW, db"
      ],
      "execution_count": 18,
      "outputs": []
    },
    {
      "cell_type": "code",
      "metadata": {
        "id": "eLKqN64egV82"
      },
      "source": [
        "def linear_activation_backward(dA, cache, activation):\n",
        "    linear_cache, activation_cache = cache\n",
        "    \n",
        "    if activation == \"relu\":\n",
        "        dZ = relu_backward(dA,activation_cache)\n",
        "        dA_prev, dW, db = linear_backward(dZ,linear_cache)\n",
        "        \n",
        "    elif activation == \"sigmoid\":\n",
        "        dZ = sigmoid_backward(dA,activation_cache)\n",
        "        dA_prev, dW, db = linear_backward(dZ,linear_cache)\n",
        "    \n",
        "    return dA_prev, dW, db"
      ],
      "execution_count": 19,
      "outputs": []
    },
    {
      "cell_type": "code",
      "metadata": {
        "id": "7tH6sdtRgYi6"
      },
      "source": [
        "def L_model_backward(AL, Y, caches):\n",
        "    grads = {}\n",
        "    L = len(caches) \n",
        "    m = AL.shape[1]\n",
        "    Y = Y.reshape(AL.shape) \n",
        "    \n",
        "    dAL = -(np.divide(Y,AL)-np.divide(1-Y,1-AL))\n",
        "    \n",
        "    current_cache = caches[L-1]\n",
        "    grads[\"dA\" + str(L-1)], grads[\"dW\" + str(L)], grads[\"db\" + str(L)] = linear_activation_backward(dAL,current_cache,\"sigmoid\")\n",
        "   \n",
        "    for l in reversed(range(L-1)):    \n",
        "        current_cache = caches[l]\n",
        "        dA_prev_temp, dW_temp, db_temp = linear_activation_backward(grads[\"dA\"+str(l+1)],current_cache,\"sigmoid\")\n",
        "        grads[\"dA\" + str(l)] = dA_prev_temp\n",
        "        grads[\"dW\" + str(l + 1)] = dW_temp\n",
        "        grads[\"db\" + str(l + 1)] = db_temp\n",
        "\n",
        "    return grads"
      ],
      "execution_count": 20,
      "outputs": []
    },
    {
      "cell_type": "code",
      "metadata": {
        "id": "8FRYn5nFgcSQ"
      },
      "source": [
        "def update_parameters(parameters, grads, learning_rate):\n",
        "   \n",
        "    L = len(parameters)//2\n",
        "    for l in range(L):\n",
        "        parameters[\"W\" + str(l+1)] = parameters[\"W\" + str(l+1)]-learning_rate*grads[\"dW\"+str(l+1)]\n",
        "        parameters[\"b\" + str(l+1)] = parameters[\"b\" + str(l+1)]-learning_rate*grads[\"db\"+str(l+1)]\n",
        "  \n",
        "    return parameters"
      ],
      "execution_count": 21,
      "outputs": []
    },
    {
      "cell_type": "code",
      "metadata": {
        "id": "jZKR0pgrgfhY"
      },
      "source": [
        "def L_layer_model(X, Y, layers_dims, learning_rate, num_iterations, print_cost=False):\n",
        "\n",
        "    costs = []                      \n",
        " \n",
        "    parameters = initialize_parameters_deep(layers_dims)\n",
        "\n",
        "    for i in range(0, num_iterations):\n",
        "\n",
        "        AL, caches = L_model_forward(X,parameters)\n",
        "        cost = compute_cost(AL,Y)        \n",
        "        grads = L_model_backward(AL,Y,caches)     \n",
        "        parameters = update_parameters(parameters,grads,learning_rate)    \n",
        "        costs.append(cost)\n",
        "        \n",
        "    plt.plot(np.squeeze(costs),'g')\n",
        "    plt.ylabel('cost')\n",
        "    plt.xlabel('Iterations')\n",
        "    plt.title(\"Learning rate =\" + str(learning_rate))\n",
        "    plt.show()\n",
        "    \n",
        "    return parameters,costs"
      ],
      "execution_count": 22,
      "outputs": []
    },
    {
      "cell_type": "code",
      "metadata": {
        "colab": {
          "base_uri": "https://localhost:8080/",
          "height": 295
        },
        "id": "ns-_632Cgio8",
        "outputId": "a5667326-c70e-4b51-93a6-deea8e524b3f"
      },
      "source": [
        "X=data.iloc[:,:-1].values\n",
        "Y=data.iloc[:,-1].values\n",
        "xmin=np.min(X,axis=0)\n",
        "xmax=np.max(X,axis=0)\n",
        "X=(X-xmin)/(xmax-xmin)#performing normalization on input features  \n",
        "m=X.shape[0]\n",
        "pp=np.ones([m,1])\n",
        "X=np.append(pp,X,axis=1)\n",
        "train_x,test_x,train_y,test_y=train_test_split(X,Y,test_size=0.2,train_size=0.8,shuffle=True)\n",
        "train_x,valid_x,train_y,valid_y=train_test_split(train_x,train_y,test_size=0.125,train_size=0.875,shuffle=True)\n",
        "train_x=train_x.T\n",
        "train_y=train_y.T\n",
        "train_y=np.reshape(train_y,newshape=(1,train_y.shape[0]))\n",
        "layers_dims = [8,4,1]\n",
        "parameters,costs = L_layer_model(train_x, train_y, layers_dims, 0.09, 30, print_cost = True)"
      ],
      "execution_count": 23,
      "outputs": [
        {
          "output_type": "display_data",
          "data": {
            "text/plain": [
              "<Figure size 432x288 with 1 Axes>"
            ],
            "image/png": "[encoded data removed]"
          },
          "metadata": {
            "needs_background": "light"
          }
        }
      ]
    },
    {
      "cell_type": "code",
      "metadata": {
        "id": "Bu70xjy5g0hS"
      },
      "source": [
        "def accuracy(parameters,test_x,test_acc):\n",
        "    p,l=L_model_forward(test_x.T,parameters)\n",
        "    p=(p>0.5).astype(int)\n",
        "    a=test_acc-p\n",
        "    a=np.sum((a!=0).astype(int))\n",
        "    return (p.shape[1]-a)/p.shape[1]"
      ],
      "execution_count": 24,
      "outputs": []
    },
    {
      "cell_type": "code",
      "metadata": {
        "colab": {
          "base_uri": "https://localhost:8080/",
          "height": 1516
        },
        "id": "OCq978iZi4pU",
        "outputId": "650da991-0cf5-4aaa-900d-eb69dbce50de"
      },
      "source": [
        "kf = KFold(n_splits=5)\n",
        "X=data.iloc[:,:-1].values\n",
        "X=(X-np.mean(X,axis=0))/(np.std(X,axis=0)) \n",
        "m=X.shape[0]\n",
        "pp=np.ones([m,1])\n",
        "X=np.append(pp,X,axis=1)\n",
        "\n",
        "Y=data.iloc[:,-1].values\n",
        "Y=np.reshape(Y,newshape=(-1,1))\n",
        "layers_dims = [8,4,1]\n",
        "\n",
        "kf.get_n_splits(X)\n",
        "fold=0\n",
        "acc=0\n",
        "overall=0\n",
        "for train_index, test_index in kf.split(X):\n",
        "    fold+=1\n",
        "    X_train=X[train_index]\n",
        "    Y_train=Y[train_index]\n",
        "    X_train=X_train.T \n",
        "    Y_train=Y_train.T\n",
        "    Y_train=np.reshape(Y_train,newshape=(1,Y_train.shape[1]))\n",
        "    X_test=X[test_index]\n",
        "    Y_test=Y[test_index]\n",
        "    parameters,costs = L_layer_model(X_train, Y_train, layers_dims, 0.09, 30, print_cost = False)\n",
        "    acc=accuracy(parameters,X_test,Y_test)\n",
        "    overall+=acc\n",
        "    print(\"Fold: {0}, Accuracy: {1}%\".format(fold,round(acc*100,2)))\n",
        "print(\"overall accuracy is for is:\",round(overall/5*100,2))"
      ],
      "execution_count": 25,
      "outputs": [
        {
          "output_type": "display_data",
          "data": {
            "text/plain": [
              "<Figure size 432x288 with 1 Axes>"
            ],
            "image/png": "[encoded data removed]"
          },
          "metadata": {
            "needs_background": "light"
          }
        },
        {
          "output_type": "stream",
          "name": "stdout",
          "text": [
            "Fold: 1, Accuracy: -2700.0%\n"
          ]
        },
        {
          "output_type": "display_data",
          "data": {
            "text/plain": [
              "<Figure size 432x288 with 1 Axes>"
            ],
            "image/png": "[encoded data removed]"
          },
          "metadata": {
            "needs_background": "light"
          }
        },
        {
          "output_type": "stream",
          "name": "stdout",
          "text": [
            "Fold: 2, Accuracy: -2800.0%\n"
          ]
        },
        {
          "output_type": "display_data",
          "data": {
            "text/plain": [
              "<Figure size 432x288 with 1 Axes>"
            ],
            "image/png": "[encoded data removed]"
          },
          "metadata": {
            "needs_background": "light"
          }
        },
        {
          "output_type": "stream",
          "name": "stdout",
          "text": [
            "Fold: 3, Accuracy: -2700.0%\n"
          ]
        },
        {
          "output_type": "display_data",
          "data": {
            "text/plain": [
              "<Figure size 432x288 with 1 Axes>"
            ],
            "image/png": "[encoded data removed]"
          },
          "metadata": {
            "needs_background": "light"
          }
        },
        {
          "output_type": "stream",
          "name": "stdout",
          "text": [
            "Fold: 4, Accuracy: -2700.0%\n"
          ]
        },
        {
          "output_type": "display_data",
          "data": {
            "text/plain": [
              "<Figure size 432x288 with 1 Axes>"
            ],
            "image/png": "[encoded data removed]"
          },
          "metadata": {
            "needs_background": "light"
          }
        },
        {
          "output_type": "stream",
          "name": "stdout",
          "text": [
            "Fold: 5, Accuracy: -2600.0%\n",
            "overall accuracy is for is: -2700.0\n"
          ]
        }
      ]
    },
    {
      "cell_type": "code",
      "metadata": {
        "id": "UOnZyNIV1Em3"
      },
      "source": [
        ""
      ],
      "execution_count": 25,
      "outputs": []
    }
  ]
}