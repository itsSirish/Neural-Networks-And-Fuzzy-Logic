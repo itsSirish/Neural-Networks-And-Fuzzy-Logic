{
  "nbformat": 4,
  "nbformat_minor": 0,
  "metadata": {
    "colab": {
      "name": "NNFL_A2_Q10.ipynb",
      "provenance": []
    },
    "kernelspec": {
      "name": "python3",
      "display_name": "Python 3"
    },
    "language_info": {
      "name": "python"
    }
  },
  "cells": [
    {
      "cell_type": "code",
      "source": [
        "from google.colab import drive\n",
        "drive.mount('/content/drive')"
      ],
      "metadata": {
        "colab": {
          "base_uri": "https://localhost:8080/"
        },
        "id": "6zEBxer_-P9N",
        "outputId": "e716abaf-2658-414b-825e-d78cdca8ce59"
      },
      "execution_count": 1,
      "outputs": [
        {
          "output_type": "stream",
          "name": "stdout",
          "text": [
            "Mounted at /content/drive\n"
          ]
        }
      ]
    },
    {
      "cell_type": "code",
      "metadata": {
        "id": "61uyjY-xA6Vm"
      },
      "source": [
        "import pandas as pd\n",
        "import numpy as np\n",
        "import scipy.io as sio\n",
        "import matplotlib.pyplot as plt\n",
        "from sklearn.cluster import KMeans\n",
        "from sklearn.model_selection import train_test_split\n",
        "from sklearn.model_selection import KFold"
      ],
      "execution_count": 2,
      "outputs": []
    },
    {
      "cell_type": "code",
      "metadata": {
        "id": "8UlIeYGtBVed"
      },
      "source": [
        "data=pd.read_excel('/content/drive/MyDrive/NNFL data/Data_A2/data55.xlsx')"
      ],
      "execution_count": 3,
      "outputs": []
    },
    {
      "cell_type": "code",
      "metadata": {
        "id": "MoIDcZqUU1mz"
      },
      "source": [
        "data.dropna(inplace=True)"
      ],
      "execution_count": 5,
      "outputs": []
    },
    {
      "cell_type": "code",
      "metadata": {
        "colab": {
          "base_uri": "https://localhost:8080/"
        },
        "id": "OKjBB4R5sKYh",
        "outputId": "84af39f3-c438-4a6c-99d6-491817eaf28f"
      },
      "source": [
        "data[data.columns[-1]].unique()"
      ],
      "execution_count": 7,
      "outputs": [
        {
          "output_type": "execute_result",
          "data": {
            "text/plain": [
              "array([0., 1.])"
            ]
          },
          "metadata": {},
          "execution_count": 7
        }
      ]
    },
    {
      "cell_type": "code",
      "metadata": {
        "colab": {
          "base_uri": "https://localhost:8080/",
          "height": 232
        },
        "id": "baYzJtr8sWGf",
        "outputId": "4bfded3f-fbc7-48bc-f0d0-4521ece93397"
      },
      "source": [
        "data=data.sample(frac=1)\n",
        "data.head()"
      ],
      "execution_count": 8,
      "outputs": [
        {
          "output_type": "execute_result",
          "data": {
            "text/plain": [
              "     0.0200  0.0371  0.0428  0.0207  0.0954  0.0986  0.1539  0.1601  0.3109  \\\n",
              "127  0.0374  0.0586  0.0628  0.0534  0.0255  0.1422  0.2072  0.2734  0.3070   \n",
              "111  0.0454  0.0472  0.0697  0.1021  0.1397  0.1493  0.1487  0.0771  0.1171   \n",
              "124  0.0228  0.0853  0.1000  0.0428  0.1117  0.1651  0.1597  0.2116  0.3295   \n",
              "39   0.0068  0.0232  0.0513  0.0444  0.0249  0.0637  0.0422  0.1130  0.1911   \n",
              "206  0.0260  0.0363  0.0136  0.0272  0.0214  0.0338  0.0655  0.1400  0.1843   \n",
              "\n",
              "     0.2111  ...  0.0027  0.0065  0.0159  0.0072  0.0167  0.0180  0.0084  \\\n",
              "127  0.2597  ...  0.0118  0.0063  0.0237  0.0032  0.0087  0.0124  0.0113   \n",
              "111  0.1675  ...  0.0120  0.0042  0.0238  0.0129  0.0084  0.0218  0.0321   \n",
              "124  0.3517  ...  0.0172  0.0191  0.0260  0.0140  0.0125  0.0116  0.0093   \n",
              "39   0.2475  ...  0.0173  0.0163  0.0055  0.0045  0.0068  0.0041  0.0052   \n",
              "206  0.2354  ...  0.0146  0.0129  0.0047  0.0039  0.0061  0.0040  0.0036   \n",
              "\n",
              "     0.0090  0.0032  0.0000  \n",
              "127  0.0098  0.0126     1.0  \n",
              "111  0.0154  0.0053     1.0  \n",
              "124  0.0012  0.0036     1.0  \n",
              "39   0.0194  0.0105     0.0  \n",
              "206  0.0061  0.0115     1.0  \n",
              "\n",
              "[5 rows x 61 columns]"
            ],
            "text/html": [
              "\n",
              "  <div id=\"df-cae76f49-75bb-4bc9-83eb-2cb7cf04ade5\">\n",
              "    <div class=\"colab-df-container\">\n",
              "      <div>\n",
              "<style scoped>\n",
              "    .dataframe tbody tr th:only-of-type {\n",
              "        vertical-align: middle;\n",
              "    }\n",
              "\n",
              "    .dataframe tbody tr th {\n",
              "        vertical-align: top;\n",
              "    }\n",
              "\n",
              "    .dataframe thead th {\n",
              "        text-align: right;\n",
              "    }\n",
              "</style>\n",
              "<table border=\"1\" class=\"dataframe\">\n",
              "  <thead>\n",
              "    <tr style=\"text-align: right;\">\n",
              "      <th></th>\n",
              "      <th>0.0200</th>\n",
              "      <th>0.0371</th>\n",
              "      <th>0.0428</th>\n",
              "      <th>0.0207</th>\n",
              "      <th>0.0954</th>\n",
              "      <th>0.0986</th>\n",
              "      <th>0.1539</th>\n",
              "      <th>0.1601</th>\n",
              "      <th>0.3109</th>\n",
              "      <th>0.2111</th>\n",
              "      <th>...</th>\n",
              "      <th>0.0027</th>\n",
              "      <th>0.0065</th>\n",
              "      <th>0.0159</th>\n",
              "      <th>0.0072</th>\n",
              "      <th>0.0167</th>\n",
              "      <th>0.0180</th>\n",
              "      <th>0.0084</th>\n",
              "      <th>0.0090</th>\n",
              "      <th>0.0032</th>\n",
              "      <th>0.0000</th>\n",
              "    </tr>\n",
              "  </thead>\n",
              "  <tbody>\n",
              "    <tr>\n",
              "      <th>127</th>\n",
              "      <td>0.0374</td>\n",
              "      <td>0.0586</td>\n",
              "      <td>0.0628</td>\n",
              "      <td>0.0534</td>\n",
              "      <td>0.0255</td>\n",
              "      <td>0.1422</td>\n",
              "      <td>0.2072</td>\n",
              "      <td>0.2734</td>\n",
              "      <td>0.3070</td>\n",
              "      <td>0.2597</td>\n",
              "      <td>...</td>\n",
              "      <td>0.0118</td>\n",
              "      <td>0.0063</td>\n",
              "      <td>0.0237</td>\n",
              "      <td>0.0032</td>\n",
              "      <td>0.0087</td>\n",
              "      <td>0.0124</td>\n",
              "      <td>0.0113</td>\n",
              "      <td>0.0098</td>\n",
              "      <td>0.0126</td>\n",
              "      <td>1.0</td>\n",
              "    </tr>\n",
              "    <tr>\n",
              "      <th>111</th>\n",
              "      <td>0.0454</td>\n",
              "      <td>0.0472</td>\n",
              "      <td>0.0697</td>\n",
              "      <td>0.1021</td>\n",
              "      <td>0.1397</td>\n",
              "      <td>0.1493</td>\n",
              "      <td>0.1487</td>\n",
              "      <td>0.0771</td>\n",
              "      <td>0.1171</td>\n",
              "      <td>0.1675</td>\n",
              "      <td>...</td>\n",
              "      <td>0.0120</td>\n",
              "      <td>0.0042</td>\n",
              "      <td>0.0238</td>\n",
              "      <td>0.0129</td>\n",
              "      <td>0.0084</td>\n",
              "      <td>0.0218</td>\n",
              "      <td>0.0321</td>\n",
              "      <td>0.0154</td>\n",
              "      <td>0.0053</td>\n",
              "      <td>1.0</td>\n",
              "    </tr>\n",
              "    <tr>\n",
              "      <th>124</th>\n",
              "      <td>0.0228</td>\n",
              "      <td>0.0853</td>\n",
              "      <td>0.1000</td>\n",
              "      <td>0.0428</td>\n",
              "      <td>0.1117</td>\n",
              "      <td>0.1651</td>\n",
              "      <td>0.1597</td>\n",
              "      <td>0.2116</td>\n",
              "      <td>0.3295</td>\n",
              "      <td>0.3517</td>\n",
              "      <td>...</td>\n",
              "      <td>0.0172</td>\n",
              "      <td>0.0191</td>\n",
              "      <td>0.0260</td>\n",
              "      <td>0.0140</td>\n",
              "      <td>0.0125</td>\n",
              "      <td>0.0116</td>\n",
              "      <td>0.0093</td>\n",
              "      <td>0.0012</td>\n",
              "      <td>0.0036</td>\n",
              "      <td>1.0</td>\n",
              "    </tr>\n",
              "    <tr>\n",
              "      <th>39</th>\n",
              "      <td>0.0068</td>\n",
              "      <td>0.0232</td>\n",
              "      <td>0.0513</td>\n",
              "      <td>0.0444</td>\n",
              "      <td>0.0249</td>\n",
              "      <td>0.0637</td>\n",
              "      <td>0.0422</td>\n",
              "      <td>0.1130</td>\n",
              "      <td>0.1911</td>\n",
              "      <td>0.2475</td>\n",
              "      <td>...</td>\n",
              "      <td>0.0173</td>\n",
              "      <td>0.0163</td>\n",
              "      <td>0.0055</td>\n",
              "      <td>0.0045</td>\n",
              "      <td>0.0068</td>\n",
              "      <td>0.0041</td>\n",
              "      <td>0.0052</td>\n",
              "      <td>0.0194</td>\n",
              "      <td>0.0105</td>\n",
              "      <td>0.0</td>\n",
              "    </tr>\n",
              "    <tr>\n",
              "      <th>206</th>\n",
              "      <td>0.0260</td>\n",
              "      <td>0.0363</td>\n",
              "      <td>0.0136</td>\n",
              "      <td>0.0272</td>\n",
              "      <td>0.0214</td>\n",
              "      <td>0.0338</td>\n",
              "      <td>0.0655</td>\n",
              "      <td>0.1400</td>\n",
              "      <td>0.1843</td>\n",
              "      <td>0.2354</td>\n",
              "      <td>...</td>\n",
              "      <td>0.0146</td>\n",
              "      <td>0.0129</td>\n",
              "      <td>0.0047</td>\n",
              "      <td>0.0039</td>\n",
              "      <td>0.0061</td>\n",
              "      <td>0.0040</td>\n",
              "      <td>0.0036</td>\n",
              "      <td>0.0061</td>\n",
              "      <td>0.0115</td>\n",
              "      <td>1.0</td>\n",
              "    </tr>\n",
              "  </tbody>\n",
              "</table>\n",
              "<p>5 rows × 61 columns</p>\n",
              "</div>\n",
              "      <button class=\"colab-df-convert\" onclick=\"convertToInteractive('df-cae76f49-75bb-4bc9-83eb-2cb7cf04ade5')\"\n",
              "              title=\"Convert this dataframe to an interactive table.\"\n",
              "              style=\"display:none;\">\n",
              "        \n",
              "  <svg xmlns=\"http://www.w3.org/2000/svg\" height=\"24px\"viewBox=\"0 0 24 24\"\n",
              "       width=\"24px\">\n",
              "    <path d=\"M0 0h24v24H0V0z\" fill=\"none\"/>\n",
              "    <path d=\"M18.56 5.44l.94 2.06.94-2.06 2.06-.94-2.06-.94-.94-2.06-.94 2.06-2.06.94zm-11 1L8.5 8.5l.94-2.06 2.06-.94-2.06-.94L8.5 2.5l-.94 2.06-2.06.94zm10 10l.94 2.06.94-2.06 2.06-.94-2.06-.94-.94-2.06-.94 2.06-2.06.94z\"/><path d=\"M17.41 7.96l-1.37-1.37c-.4-.4-.92-.59-1.43-.59-.52 0-1.04.2-1.43.59L10.3 9.45l-7.72 7.72c-.78.78-.78 2.05 0 2.83L4 21.41c.39.39.9.59 1.41.59.51 0 1.02-.2 1.41-.59l7.78-7.78 2.81-2.81c.8-.78.8-2.07 0-2.86zM5.41 20L4 18.59l7.72-7.72 1.47 1.35L5.41 20z\"/>\n",
              "  </svg>\n",
              "      </button>\n",
              "      \n",
              "  <style>\n",
              "    .colab-df-container {\n",
              "      display:flex;\n",
              "      flex-wrap:wrap;\n",
              "      gap: 12px;\n",
              "    }\n",
              "\n",
              "    .colab-df-convert {\n",
              "      background-color: #E8F0FE;\n",
              "      border: none;\n",
              "      border-radius: 50%;\n",
              "      cursor: pointer;\n",
              "      display: none;\n",
              "      fill: #1967D2;\n",
              "      height: 32px;\n",
              "      padding: 0 0 0 0;\n",
              "      width: 32px;\n",
              "    }\n",
              "\n",
              "    .colab-df-convert:hover {\n",
              "      background-color: #E2EBFA;\n",
              "      box-shadow: 0px 1px 2px rgba(60, 64, 67, 0.3), 0px 1px 3px 1px rgba(60, 64, 67, 0.15);\n",
              "      fill: #174EA6;\n",
              "    }\n",
              "\n",
              "    [theme=dark] .colab-df-convert {\n",
              "      background-color: #3B4455;\n",
              "      fill: #D2E3FC;\n",
              "    }\n",
              "\n",
              "    [theme=dark] .colab-df-convert:hover {\n",
              "      background-color: #434B5C;\n",
              "      box-shadow: 0px 1px 3px 1px rgba(0, 0, 0, 0.15);\n",
              "      filter: drop-shadow(0px 1px 2px rgba(0, 0, 0, 0.3));\n",
              "      fill: #FFFFFF;\n",
              "    }\n",
              "  </style>\n",
              "\n",
              "      <script>\n",
              "        const buttonEl =\n",
              "          document.querySelector('#df-cae76f49-75bb-4bc9-83eb-2cb7cf04ade5 button.colab-df-convert');\n",
              "        buttonEl.style.display =\n",
              "          google.colab.kernel.accessAllowed ? 'block' : 'none';\n",
              "\n",
              "        async function convertToInteractive(key) {\n",
              "          const element = document.querySelector('#df-cae76f49-75bb-4bc9-83eb-2cb7cf04ade5');\n",
              "          const dataTable =\n",
              "            await google.colab.kernel.invokeFunction('convertToInteractive',\n",
              "                                                     [key], {});\n",
              "          if (!dataTable) return;\n",
              "\n",
              "          const docLinkHtml = 'Like what you see? Visit the ' +\n",
              "            '<a target=\"_blank\" href=https://colab.research.google.com/notebooks/data_table.ipynb>data table notebook</a>'\n",
              "            + ' to learn more about interactive tables.';\n",
              "          element.innerHTML = '';\n",
              "          dataTable['output_type'] = 'display_data';\n",
              "          await google.colab.output.renderOutput(dataTable, element);\n",
              "          const docLink = document.createElement('div');\n",
              "          docLink.innerHTML = docLinkHtml;\n",
              "          element.appendChild(docLink);\n",
              "        }\n",
              "      </script>\n",
              "    </div>\n",
              "  </div>\n",
              "  "
            ]
          },
          "metadata": {},
          "execution_count": 8
        },
        {
          "output_type": "stream",
          "name": "stdout",
          "text": [
            "Warning: Total number of columns (61) exceeds max_columns (20) limiting to first (20) columns.\n"
          ]
        }
      ]
    },
    {
      "cell_type": "code",
      "metadata": {
        "colab": {
          "base_uri": "https://localhost:8080/"
        },
        "id": "YJRAl35bwezX",
        "outputId": "eb927e40-ca0a-4ee3-c6a9-32e02f06ce4f"
      },
      "source": [
        "data.hist"
      ],
      "execution_count": 9,
      "outputs": [
        {
          "output_type": "execute_result",
          "data": {
            "text/plain": [
              "<bound method hist_frame of      0.0200  0.0371  0.0428  0.0207  0.0954  0.0986  0.1539  0.1601  0.3109  \\\n",
              "127  0.0374  0.0586  0.0628  0.0534  0.0255  0.1422  0.2072  0.2734  0.3070   \n",
              "111  0.0454  0.0472  0.0697  0.1021  0.1397  0.1493  0.1487  0.0771  0.1171   \n",
              "124  0.0228  0.0853  0.1000  0.0428  0.1117  0.1651  0.1597  0.2116  0.3295   \n",
              "39   0.0068  0.0232  0.0513  0.0444  0.0249  0.0637  0.0422  0.1130  0.1911   \n",
              "206  0.0260  0.0363  0.0136  0.0272  0.0214  0.0338  0.0655  0.1400  0.1843   \n",
              "..      ...     ...     ...     ...     ...     ...     ...     ...     ...   \n",
              "193  0.0392  0.0108  0.0267  0.0257  0.0410  0.0491  0.1053  0.1690  0.2105   \n",
              "171  0.0180  0.0444  0.0476  0.0698  0.1615  0.0887  0.0596  0.1071  0.3175   \n",
              "26   0.0177  0.0300  0.0288  0.0394  0.0630  0.0526  0.0688  0.0633  0.0624   \n",
              "99   0.0629  0.1065  0.1526  0.1229  0.1437  0.1190  0.0884  0.0907  0.2107   \n",
              "101  0.0587  0.1210  0.1268  0.1498  0.1436  0.0561  0.0832  0.0672  0.1372   \n",
              "\n",
              "     0.2111  ...  0.0027  0.0065  0.0159  0.0072  0.0167  0.0180  0.0084  \\\n",
              "127  0.2597  ...  0.0118  0.0063  0.0237  0.0032  0.0087  0.0124  0.0113   \n",
              "111  0.1675  ...  0.0120  0.0042  0.0238  0.0129  0.0084  0.0218  0.0321   \n",
              "124  0.3517  ...  0.0172  0.0191  0.0260  0.0140  0.0125  0.0116  0.0093   \n",
              "39   0.2475  ...  0.0173  0.0163  0.0055  0.0045  0.0068  0.0041  0.0052   \n",
              "206  0.2354  ...  0.0146  0.0129  0.0047  0.0039  0.0061  0.0040  0.0036   \n",
              "..      ...  ...     ...     ...     ...     ...     ...     ...     ...   \n",
              "193  0.2471  ...  0.0083  0.0080  0.0026  0.0079  0.0042  0.0071  0.0044   \n",
              "171  0.2918  ...  0.0122  0.0114  0.0098  0.0027  0.0025  0.0026  0.0050   \n",
              "26   0.0613  ...  0.0102  0.0122  0.0044  0.0075  0.0124  0.0099  0.0057   \n",
              "99   0.3597  ...  0.0089  0.0262  0.0108  0.0138  0.0187  0.0230  0.0057   \n",
              "101  0.2352  ...  0.0331  0.0111  0.0088  0.0158  0.0122  0.0038  0.0101   \n",
              "\n",
              "     0.0090  0.0032  0.0000  \n",
              "127  0.0098  0.0126     1.0  \n",
              "111  0.0154  0.0053     1.0  \n",
              "124  0.0012  0.0036     1.0  \n",
              "39   0.0194  0.0105     0.0  \n",
              "206  0.0061  0.0115     1.0  \n",
              "..      ...     ...     ...  \n",
              "193  0.0022  0.0014     1.0  \n",
              "171  0.0073  0.0022     1.0  \n",
              "26   0.0032  0.0019     0.0  \n",
              "99   0.0113  0.0131     1.0  \n",
              "101  0.0228  0.0124     1.0  \n",
              "\n",
              "[207 rows x 61 columns]>"
            ]
          },
          "metadata": {},
          "execution_count": 9
        }
      ]
    },
    {
      "cell_type": "code",
      "metadata": {
        "id": "qJPKDXq3sY4h"
      },
      "source": [
        "class_one = data[data.iloc[:,-1]==1][0:210]\n",
        "class_two = data[data.iloc[:,-1]==2][0:210]\n",
        "class_three = data[data.iloc[:,-1]==3][0:210]"
      ],
      "execution_count": 10,
      "outputs": []
    },
    {
      "cell_type": "code",
      "metadata": {
        "colab": {
          "base_uri": "https://localhost:8080/",
          "height": 297
        },
        "id": "StdUzGRDz2Le",
        "outputId": "3dd1125f-ebbb-4c2f-d710-f9fbbe99f9d3"
      },
      "source": [
        "axes = class_one.plot(kind='scatter', x=1, y=2, color='blue', label='one')\n",
        "class_two.plot(kind='scatter', x=1, y=2, color='red', label='two', ax=axes)\n",
        "class_three.plot(kind='scatter', x=1, y=2, color='yellow', label='three', ax=axes)\n"
      ],
      "execution_count": 11,
      "outputs": [
        {
          "output_type": "execute_result",
          "data": {
            "text/plain": [
              "<matplotlib.axes._subplots.AxesSubplot at 0x7fc11c4c2c90>"
            ]
          },
          "metadata": {},
          "execution_count": 11
        },
        {
          "output_type": "display_data",
          "data": {
            "text/plain": [
              "<Figure size 432x288 with 1 Axes>"
            ],
            "image/png": "[encoded data removed]"
          },
          "metadata": {
            "needs_background": "light"
          }
        }
      ]
    }
  ]
}