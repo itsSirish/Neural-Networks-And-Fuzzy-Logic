{
  "nbformat": 4,
  "nbformat_minor": 0,
  "metadata": {
    "colab": {
      "name": "NNFL_2_4.ipynb",
      "provenance": []
    },
    "kernelspec": {
      "name": "python3",
      "display_name": "Python 3"
    },
    "language_info": {
      "name": "python"
    }
  },
  "cells": [
    {
      "cell_type": "code",
      "source": [
        "from google.colab import drive\n",
        "drive.mount('/content/drive')"
      ],
      "metadata": {
        "colab": {
          "base_uri": "https://localhost:8080/"
        },
        "id": "3rXKYGAF6K7J",
        "outputId": "2cc7553d-b4de-430e-f2d0-e00637445736"
      },
      "execution_count": 1,
      "outputs": [
        {
          "output_type": "stream",
          "name": "stdout",
          "text": [
            "Mounted at /content/drive\n"
          ]
        }
      ]
    },
    {
      "cell_type": "code",
      "metadata": {
        "id": "61uyjY-xA6Vm"
      },
      "source": [
        "import pandas as pd\n",
        "import numpy as np\n",
        "import scipy.io as sio\n",
        "import matplotlib.pyplot as plt\n",
        "from sklearn.cluster import KMeans\n",
        "from sklearn.model_selection import train_test_split\n",
        "from sklearn.model_selection import KFold"
      ],
      "execution_count": 2,
      "outputs": []
    },
    {
      "cell_type": "code",
      "metadata": {
        "id": "8UlIeYGtBVed"
      },
      "source": [
        "data=pd.read_excel('/content/drive/MyDrive/NNFL data/Data_A2/data5.xlsx')"
      ],
      "execution_count": 3,
      "outputs": []
    },
    {
      "cell_type": "code",
      "metadata": {
        "id": "MoIDcZqUU1mz"
      },
      "source": [
        "data.dropna(inplace=True)"
      ],
      "execution_count": 5,
      "outputs": []
    },
    {
      "cell_type": "code",
      "metadata": {
        "colab": {
          "base_uri": "https://localhost:8080/"
        },
        "id": "OKjBB4R5sKYh",
        "outputId": "22526bd3-e00f-4670-ce6c-9408878a44db"
      },
      "source": [
        "data[data.columns[-1]].unique()"
      ],
      "execution_count": 7,
      "outputs": [
        {
          "output_type": "execute_result",
          "data": {
            "text/plain": [
              "array([1., 2., 3.])"
            ]
          },
          "metadata": {},
          "execution_count": 7
        }
      ]
    },
    {
      "cell_type": "code",
      "metadata": {
        "colab": {
          "base_uri": "https://localhost:8080/",
          "height": 206
        },
        "id": "baYzJtr8sWGf",
        "outputId": "3507597a-683a-46fd-f453-3573d08e072a"
      },
      "source": [
        "data=data.sample(frac=1)\n",
        "data.head()"
      ],
      "execution_count": 8,
      "outputs": [
        {
          "output_type": "execute_result",
          "data": {
            "text/plain": [
              "     15.260  14.840  0.871   5.763   3.312   2.221   5.220   1.000 \n",
              "131   15.38   14.90  0.8706   5.884   3.268   4.462   5.795     2.0\n",
              "147   12.70   13.71  0.8491   5.386   2.911   3.260   5.316     3.0\n",
              "44    13.80   14.04  0.8794   5.376   3.155   1.560   4.961     1.0\n",
              "148   10.79   12.93  0.8107   5.317   2.648   5.462   5.194     3.0\n",
              "26    12.74   13.67  0.8564   5.395   2.956   2.504   4.869     1.0"
            ],
            "text/html": [
              "\n",
              "  <div id=\"df-4e03fe6e-f575-4d95-9980-d56cc50e8046\">\n",
              "    <div class=\"colab-df-container\">\n",
              "      <div>\n",
              "<style scoped>\n",
              "    .dataframe tbody tr th:only-of-type {\n",
              "        vertical-align: middle;\n",
              "    }\n",
              "\n",
              "    .dataframe tbody tr th {\n",
              "        vertical-align: top;\n",
              "    }\n",
              "\n",
              "    .dataframe thead th {\n",
              "        text-align: right;\n",
              "    }\n",
              "</style>\n",
              "<table border=\"1\" class=\"dataframe\">\n",
              "  <thead>\n",
              "    <tr style=\"text-align: right;\">\n",
              "      <th></th>\n",
              "      <th>15.260</th>\n",
              "      <th>14.840</th>\n",
              "      <th>0.871</th>\n",
              "      <th>5.763</th>\n",
              "      <th>3.312</th>\n",
              "      <th>2.221</th>\n",
              "      <th>5.220</th>\n",
              "      <th>1.000</th>\n",
              "    </tr>\n",
              "  </thead>\n",
              "  <tbody>\n",
              "    <tr>\n",
              "      <th>131</th>\n",
              "      <td>15.38</td>\n",
              "      <td>14.90</td>\n",
              "      <td>0.8706</td>\n",
              "      <td>5.884</td>\n",
              "      <td>3.268</td>\n",
              "      <td>4.462</td>\n",
              "      <td>5.795</td>\n",
              "      <td>2.0</td>\n",
              "    </tr>\n",
              "    <tr>\n",
              "      <th>147</th>\n",
              "      <td>12.70</td>\n",
              "      <td>13.71</td>\n",
              "      <td>0.8491</td>\n",
              "      <td>5.386</td>\n",
              "      <td>2.911</td>\n",
              "      <td>3.260</td>\n",
              "      <td>5.316</td>\n",
              "      <td>3.0</td>\n",
              "    </tr>\n",
              "    <tr>\n",
              "      <th>44</th>\n",
              "      <td>13.80</td>\n",
              "      <td>14.04</td>\n",
              "      <td>0.8794</td>\n",
              "      <td>5.376</td>\n",
              "      <td>3.155</td>\n",
              "      <td>1.560</td>\n",
              "      <td>4.961</td>\n",
              "      <td>1.0</td>\n",
              "    </tr>\n",
              "    <tr>\n",
              "      <th>148</th>\n",
              "      <td>10.79</td>\n",
              "      <td>12.93</td>\n",
              "      <td>0.8107</td>\n",
              "      <td>5.317</td>\n",
              "      <td>2.648</td>\n",
              "      <td>5.462</td>\n",
              "      <td>5.194</td>\n",
              "      <td>3.0</td>\n",
              "    </tr>\n",
              "    <tr>\n",
              "      <th>26</th>\n",
              "      <td>12.74</td>\n",
              "      <td>13.67</td>\n",
              "      <td>0.8564</td>\n",
              "      <td>5.395</td>\n",
              "      <td>2.956</td>\n",
              "      <td>2.504</td>\n",
              "      <td>4.869</td>\n",
              "      <td>1.0</td>\n",
              "    </tr>\n",
              "  </tbody>\n",
              "</table>\n",
              "</div>\n",
              "      <button class=\"colab-df-convert\" onclick=\"convertToInteractive('df-4e03fe6e-f575-4d95-9980-d56cc50e8046')\"\n",
              "              title=\"Convert this dataframe to an interactive table.\"\n",
              "              style=\"display:none;\">\n",
              "        \n",
              "  <svg xmlns=\"http://www.w3.org/2000/svg\" height=\"24px\"viewBox=\"0 0 24 24\"\n",
              "       width=\"24px\">\n",
              "    <path d=\"M0 0h24v24H0V0z\" fill=\"none\"/>\n",
              "    <path d=\"M18.56 5.44l.94 2.06.94-2.06 2.06-.94-2.06-.94-.94-2.06-.94 2.06-2.06.94zm-11 1L8.5 8.5l.94-2.06 2.06-.94-2.06-.94L8.5 2.5l-.94 2.06-2.06.94zm10 10l.94 2.06.94-2.06 2.06-.94-2.06-.94-.94-2.06-.94 2.06-2.06.94z\"/><path d=\"M17.41 7.96l-1.37-1.37c-.4-.4-.92-.59-1.43-.59-.52 0-1.04.2-1.43.59L10.3 9.45l-7.72 7.72c-.78.78-.78 2.05 0 2.83L4 21.41c.39.39.9.59 1.41.59.51 0 1.02-.2 1.41-.59l7.78-7.78 2.81-2.81c.8-.78.8-2.07 0-2.86zM5.41 20L4 18.59l7.72-7.72 1.47 1.35L5.41 20z\"/>\n",
              "  </svg>\n",
              "      </button>\n",
              "      \n",
              "  <style>\n",
              "    .colab-df-container {\n",
              "      display:flex;\n",
              "      flex-wrap:wrap;\n",
              "      gap: 12px;\n",
              "    }\n",
              "\n",
              "    .colab-df-convert {\n",
              "      background-color: #E8F0FE;\n",
              "      border: none;\n",
              "      border-radius: 50%;\n",
              "      cursor: pointer;\n",
              "      display: none;\n",
              "      fill: #1967D2;\n",
              "      height: 32px;\n",
              "      padding: 0 0 0 0;\n",
              "      width: 32px;\n",
              "    }\n",
              "\n",
              "    .colab-df-convert:hover {\n",
              "      background-color: #E2EBFA;\n",
              "      box-shadow: 0px 1px 2px rgba(60, 64, 67, 0.3), 0px 1px 3px 1px rgba(60, 64, 67, 0.15);\n",
              "      fill: #174EA6;\n",
              "    }\n",
              "\n",
              "    [theme=dark] .colab-df-convert {\n",
              "      background-color: #3B4455;\n",
              "      fill: #D2E3FC;\n",
              "    }\n",
              "\n",
              "    [theme=dark] .colab-df-convert:hover {\n",
              "      background-color: #434B5C;\n",
              "      box-shadow: 0px 1px 3px 1px rgba(0, 0, 0, 0.15);\n",
              "      filter: drop-shadow(0px 1px 2px rgba(0, 0, 0, 0.3));\n",
              "      fill: #FFFFFF;\n",
              "    }\n",
              "  </style>\n",
              "\n",
              "      <script>\n",
              "        const buttonEl =\n",
              "          document.querySelector('#df-4e03fe6e-f575-4d95-9980-d56cc50e8046 button.colab-df-convert');\n",
              "        buttonEl.style.display =\n",
              "          google.colab.kernel.accessAllowed ? 'block' : 'none';\n",
              "\n",
              "        async function convertToInteractive(key) {\n",
              "          const element = document.querySelector('#df-4e03fe6e-f575-4d95-9980-d56cc50e8046');\n",
              "          const dataTable =\n",
              "            await google.colab.kernel.invokeFunction('convertToInteractive',\n",
              "                                                     [key], {});\n",
              "          if (!dataTable) return;\n",
              "\n",
              "          const docLinkHtml = 'Like what you see? Visit the ' +\n",
              "            '<a target=\"_blank\" href=https://colab.research.google.com/notebooks/data_table.ipynb>data table notebook</a>'\n",
              "            + ' to learn more about interactive tables.';\n",
              "          element.innerHTML = '';\n",
              "          dataTable['output_type'] = 'display_data';\n",
              "          await google.colab.output.renderOutput(dataTable, element);\n",
              "          const docLink = document.createElement('div');\n",
              "          docLink.innerHTML = docLinkHtml;\n",
              "          element.appendChild(docLink);\n",
              "        }\n",
              "      </script>\n",
              "    </div>\n",
              "  </div>\n",
              "  "
            ]
          },
          "metadata": {},
          "execution_count": 8
        }
      ]
    },
    {
      "cell_type": "code",
      "metadata": {
        "id": "qJPKDXq3sY4h"
      },
      "source": [
        "class_one = data[data.iloc[:,-1]==1][0:210]\n",
        "class_two = data[data.iloc[:,-1]==2][0:210]\n",
        "class_three = data[data.iloc[:,-1]==3][0:210]"
      ],
      "execution_count": 9,
      "outputs": []
    },
    {
      "cell_type": "code",
      "metadata": {
        "colab": {
          "base_uri": "https://localhost:8080/",
          "height": 297
        },
        "id": "StdUzGRDz2Le",
        "outputId": "72df2db9-6eba-4d6a-8b94-28652f146787"
      },
      "source": [
        "axes = class_one.plot(kind='scatter', x=1, y=2, color='blue', label='one')\n",
        "class_two.plot(kind='scatter', x=1, y=2, color='red', label='two', ax=axes)\n",
        "class_three.plot(kind='scatter', x=1, y=2, color='yellow', label='three', ax=axes)\n"
      ],
      "execution_count": 10,
      "outputs": [
        {
          "output_type": "execute_result",
          "data": {
            "text/plain": [
              "<matplotlib.axes._subplots.AxesSubplot at 0x7fdb44b82310>"
            ]
          },
          "metadata": {},
          "execution_count": 10
        },
        {
          "output_type": "display_data",
          "data": {
            "text/plain": [
              "<Figure size 432x288 with 1 Axes>"
            ],
            "image/png": "[encoded data removed]"
          },
          "metadata": {
            "needs_background": "light"
          }
        }
      ]
    },
    {
      "cell_type": "code",
      "metadata": {
        "id": "9YEzjFQH0vJg"
      },
      "source": [
        "def clustering(k):\n",
        "    kmeans=KMeans(n_clusters=k).fit(train_x)\n",
        "    return kmeans"
      ],
      "execution_count": 11,
      "outputs": []
    },
    {
      "cell_type": "code",
      "metadata": {
        "id": "FDDlLnYg1Nvu"
      },
      "source": [
        "def kernel(x,mu,sigma,kernel_funct):\n",
        "    beta=1/(2*sigma*sigma)\n",
        "    if kernel_funct == \"gaussian\":\n",
        "        return np.exp(-beta*(np.linalg.norm(x-mu))**2)\n",
        "    elif kernel_funct == \"multi-quadric\":\n",
        "        return ((np.linalg.norm(x-mu))**2+sigma**2)**0.5\n",
        "    elif kernel_funct == \"linear\":\n",
        "        return np.linalg.norm(x-mu)"
      ],
      "execution_count": 12,
      "outputs": []
    },
    {
      "cell_type": "code",
      "metadata": {
        "id": "8Lt8_LOP1Q53"
      },
      "source": [
        "def compute_sigma(x,labels,mu):\n",
        "    c=mu.shape[0]\n",
        "    sigma=np.zeros(c)\n",
        "    for i in range(c):\n",
        "        x_temp=x[labels==i]\n",
        "        k=0\n",
        "        for j in range(x_temp.shape[0]):\n",
        "            k+=np.linalg.norm(x_temp[j]-mu[i])\n",
        "        sigma[i]=k/x_temp.shape[0]\n",
        "    return sigma"
      ],
      "execution_count": 13,
      "outputs": []
    },
    {
      "cell_type": "code",
      "metadata": {
        "id": "t_87x0FQ3GA0"
      },
      "source": [
        "def compute_H(X,mu,sigma,kernel_funct):\n",
        "    c=mu.shape[0]\n",
        "    H=np.zeros((X.shape[0],c))\n",
        "    for i in range(H.shape[0]):\n",
        "        for j in range(H.shape[1]):\n",
        "            H[i][j]=kernel(X[i],mu[j],sigma[j],kernel_funct)\n",
        "    return H"
      ],
      "execution_count": 14,
      "outputs": []
    },
    {
      "cell_type": "code",
      "metadata": {
        "id": "Ay7FAoj13KK8"
      },
      "source": [
        "X=data.iloc[:,:-1].values\n",
        "Y=data.iloc[:,-1].values\n",
        "xmin=np.min(X,axis=0)\n",
        "xmax=np.max(X,axis=0)\n",
        "X=(X-xmin)/(xmax-xmin)#performing normalization on input features  \n",
        "# m=X.shape[0]\n",
        "# pp=np.ones([m,1])\n",
        "# X=np.append(pp,X,axis=1)\n",
        "train_x,test_x,train_y,test_y=train_test_split(X,Y,test_size=0.2,train_size=0.8,shuffle=True)\n",
        "train_x,valid_x,train_y,valid_y=train_test_split(train_x,train_y,test_size=0.125,train_size=0.875,shuffle=True)\n",
        "train_y=np.reshape(train_y,newshape=(train_y.shape[0],1))\n",
        "valid_y=np.reshape(valid_y,newshape=(valid_y.shape[0],1))\n",
        "test_y=np.reshape(test_y,newshape=(test_y.shape[0],1))\n"
      ],
      "execution_count": 15,
      "outputs": []
    },
    {
      "cell_type": "code",
      "metadata": {
        "id": "XE6J2mea3-mp"
      },
      "source": [
        "def compute(kernel_funct,xtrain,ytrain,xtest,ytest):\n",
        "    kmeans=clustering(15)\n",
        "    mu=kmeans.cluster_centers_\n",
        "    sigma=compute_sigma(xtrain,kmeans.labels_,mu)\n",
        "    H=compute_H(xtrain,mu,sigma,kernel_funct)\n",
        "    W=np.dot(np.linalg.pinv(H),ytrain)\n",
        "    H=compute_H(xtest,mu,sigma,kernel_funct)\n",
        "    pred=np.dot(H,W)\n",
        "    p=(pred>0.5).astype(int)\n",
        "    a=(p!=ytest).astype(int)\n",
        "    \n",
        "    return (ytest.shape[0]-np.sum(a))/ytest.shape[0]"
      ],
      "execution_count": 16,
      "outputs": []
    },
    {
      "cell_type": "code",
      "metadata": {
        "id": "kdrHLeQM4MMH"
      },
      "source": [
        "muquad_acc = compute(\"multi-quadric\",train_x,train_y,test_x,test_y)\n",
        "lin_acc = compute(\"linear\",train_x,train_y,test_x,test_y)\n",
        "gaussian_acc=compute(\"gaussian\",train_x,train_y,test_x,test_y)"
      ],
      "execution_count": 17,
      "outputs": []
    },
    {
      "cell_type": "code",
      "metadata": {
        "colab": {
          "base_uri": "https://localhost:8080/"
        },
        "id": "TCI_ireh4kAI",
        "outputId": "86e868da-0bf5-45a2-dec3-13eb3743443c"
      },
      "source": [
        "print(\"Accuracy for Multi quadric kernel is: {0}%\".format(round(muquad_acc*100,2)))\n",
        "print(\"Accuracy for Linear kernel is: {0}%\".format(round(lin_acc*100,2)))\n",
        "print(\"Accuracy for Gaussian kernel is: {0}%\".format(round(gaussian_acc*100,2)))"
      ],
      "execution_count": 18,
      "outputs": [
        {
          "output_type": "stream",
          "name": "stdout",
          "text": [
            "Accuracy for Multi quadric kernel is: 40.48%\n",
            "Accuracy for Linear kernel is: 40.48%\n",
            "Accuracy for Gaussian kernel is: 38.1%\n"
          ]
        }
      ]
    },
    {
      "cell_type": "code",
      "metadata": {
        "colab": {
          "base_uri": "https://localhost:8080/"
        },
        "id": "CzdcmqRR414f",
        "outputId": "05a51eee-7fd9-44ad-a298-f3db8cdd2d57"
      },
      "source": [
        "kf = KFold(n_splits=5)\n",
        "X=data.iloc[:,:-1].values\n",
        "X=(X-np.mean(X,axis=0))/(np.std(X,axis=0))\n",
        "Y=data.iloc[:,-1].values\n",
        "Y=np.reshape(Y,newshape=(-1,1))\n",
        "kf.get_n_splits(X)\n",
        "fold = 0\n",
        "accuracy = 0\n",
        "overall_mq = 0\n",
        "overall_lin = 0\n",
        "overall_gauss=0\n",
        "for train_index, test_index in kf.split(X):\n",
        "    fold+=1\n",
        "    X_train=X[train_index]\n",
        "    Y_train=Y[train_index]\n",
        "    X_test=X[test_index]\n",
        "    Y_test=Y[test_index]\n",
        "    mquad_acc_val = compute(\"multi-quadric\",train_x,train_y,test_x,test_y)\n",
        "    lin_acc_val = compute(\"linear\",train_x,train_y,test_x,test_y)\n",
        "    gaussian_acc_val=compute(\"gaussian\",train_x,train_y,test_x,test_y)\n",
        "    overall_mq+=mquad_acc_val\n",
        "    overall_lin+=lin_acc_val\n",
        "    overall_gauss+=gaussian_acc_val\n",
        "    print(\"Fold: {0}, Accuracy for multi quadratic kernel: {1}%\".format(fold,round(mquad_acc_val*100,2)))\n",
        "    print(\"Fold: {0}, Accuracy for linear kernel: {1}%\".format(fold,round(lin_acc_val*100,2)))\n",
        "    print(\"Fold: {0}, Accuracy for gaussian kernel: {1}%\".format(fold,round(gaussian_acc_val*100,2)))\n",
        "print(\"overall accuracy is for Multiquad is: {0}%\".format(round(overall_mq/5*100,2)))\n",
        "print(\"overall accuracy is for linear  is: {0}%\".format(round(overall_lin/5*100,2)))\n",
        "print(\"overall accuracy is for Gaussian  is: {0}%\".format(round(overall_gauss/5*100,2)))"
      ],
      "execution_count": 19,
      "outputs": [
        {
          "output_type": "stream",
          "name": "stdout",
          "text": [
            "Fold: 1, Accuracy for multi quadratic kernel: 40.48%\n",
            "Fold: 1, Accuracy for linear kernel: 40.48%\n",
            "Fold: 1, Accuracy for gaussian kernel: 38.1%\n",
            "Fold: 2, Accuracy for multi quadratic kernel: 40.48%\n",
            "Fold: 2, Accuracy for linear kernel: 40.48%\n",
            "Fold: 2, Accuracy for gaussian kernel: 35.71%\n",
            "Fold: 3, Accuracy for multi quadratic kernel: 40.48%\n",
            "Fold: 3, Accuracy for linear kernel: 40.48%\n",
            "Fold: 3, Accuracy for gaussian kernel: 35.71%\n",
            "Fold: 4, Accuracy for multi quadratic kernel: 40.48%\n",
            "Fold: 4, Accuracy for linear kernel: 40.48%\n",
            "Fold: 4, Accuracy for gaussian kernel: 38.1%\n",
            "Fold: 5, Accuracy for multi quadratic kernel: 40.48%\n",
            "Fold: 5, Accuracy for linear kernel: 40.48%\n",
            "Fold: 5, Accuracy for gaussian kernel: 33.33%\n",
            "overall accuracy is for Multiquad is: 40.48%\n",
            "overall accuracy is for linear  is: 40.48%\n",
            "overall accuracy is for Gaussian  is: 36.19%\n"
          ]
        }
      ]
    }
  ]
}