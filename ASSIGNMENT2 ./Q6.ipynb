{
  "nbformat": 4,
  "nbformat_minor": 0,
  "metadata": {
    "colab": {
      "name": "NNFL_A2_Q6.ipynb",
      "provenance": []
    },
    "kernelspec": {
      "name": "python3",
      "display_name": "Python 3"
    },
    "language_info": {
      "name": "python"
    }
  },
  "cells": [
    {
      "cell_type": "code",
      "execution_count": null,
      "metadata": {
        "colab": {
          "base_uri": "https://localhost:8080/"
        },
        "id": "WKNHGofo-5Oy",
        "outputId": "08a70617-1d67-43f5-d1f7-a59e870b29c0"
      },
      "outputs": [
        {
          "output_type": "stream",
          "name": "stdout",
          "text": [
            "Mounted at /content/drive\n"
          ]
        }
      ],
      "source": [
        "from google.colab import drive\n",
        "drive.mount('/content/drive')"
      ]
    },
    {
      "cell_type": "code",
      "source": [
        "# Changing directory to the directory containing dataset\n",
        "%cd drive/MyDrive/NNFL data/Data_A2/"
      ],
      "metadata": {
        "colab": {
          "base_uri": "https://localhost:8080/"
        },
        "id": "JLV4lox_--8s",
        "outputId": "0e9636a8-64d2-4248-e57c-8430d9aef284"
      },
      "execution_count": null,
      "outputs": [
        {
          "output_type": "stream",
          "name": "stdout",
          "text": [
            "/content/drive/MyDrive/NNFL data/Data_A2\n"
          ]
        }
      ]
    },
    {
      "cell_type": "code",
      "source": [
        "%ls -l"
      ],
      "metadata": {
        "colab": {
          "base_uri": "https://localhost:8080/"
        },
        "id": "6T8nJVyy_NG9",
        "outputId": "2c63bf83-621b-4e46-ce09-9401fcebed85"
      },
      "execution_count": null,
      "outputs": [
        {
          "output_type": "stream",
          "name": "stdout",
          "text": [
            "total 87\n",
            "-rw------- 1 root root   259 Apr 29 07:23 class_label.mat\n",
            "-rw------- 1 root root 70617 Apr 22 07:54 data55.xlsx\n",
            "-rw------- 1 root root 17039 Apr 29 07:25 data5.xlsx\n"
          ]
        }
      ]
    },
    {
      "cell_type": "code",
      "source": [
        "import pandas as pd\n",
        "import numpy as np\n",
        "import matplotlib.pyplot as plt\n",
        "import os\n",
        "from pprint import pprint"
      ],
      "metadata": {
        "id": "0EgDWGnb_SqY"
      },
      "execution_count": null,
      "outputs": []
    },
    {
      "cell_type": "code",
      "source": [
        "import warnings\n",
        "warnings.filterwarnings('ignore')"
      ],
      "metadata": {
        "id": "aEUApvhb_UbH"
      },
      "execution_count": null,
      "outputs": []
    },
    {
      "cell_type": "code",
      "source": [
        "from sklearn.preprocessing import OneHotEncoder\n",
        "from sklearn.model_selection import train_test_split\n",
        "from sklearn.model_selection import KFold\n",
        "\n",
        "df = pd.read_excel('data5.xlsx', header = None)\n",
        "df = df.sample(frac=1).reset_index(drop=True)\n",
        "def sigmoidFunction(Z):\n",
        "    return (1/(1+np.exp(-Z)), Z)\n",
        "\n",
        "para=[]\n",
        "def act1(x, a, b, act):\n",
        "    if (act == \"gaussian\"):\n",
        "        return np.exp(-b*np.linalg.norm(x-a))\n",
        "    elif (act == \"tanh\"):\n",
        "        num = 1-np.exp(-(np.dot(x.T,a)+b))\n",
        "        den = 1+np.exp(-(np.dot(x.T,a)+b))\n",
        "        return (num/den)\n",
        "\n",
        "def init(hiddenLayer, dimensions):\n",
        "    a = []\n",
        "    b = []\n",
        "    for i in range(hiddenLayer):\n",
        "        a.append(np.random.rand(dimensions,1))\n",
        "        b.append(np.random.rand(1))\n",
        "    return (a,b)\n",
        "\n",
        "def one_hot(y): \n",
        "    onehotencoder = OneHotEncoder() \n",
        "    y = onehotencoder.fit_transform(y).toarray()\n",
        "    return y\n",
        "\n",
        "def compute(hiddenLayer, train_x, test_x, train_y, test_y, act):\n",
        "\n",
        "    Y_enc = one_hot(train_y)\n",
        "    H = np.zeros((train_x.shape[0],hiddenLayer))\n",
        "    for i in range(H.shape[1]):\n",
        "        for j in range(H.shape[0]):\n",
        "            H[j][i]=act1(train_x[j],a[i],b[i],act)\n",
        "    W = np.dot(np.linalg.pinv(H),Y_enc)\n",
        "    \n",
        "    H = np.zeros((test_x.shape[0],hiddenLayer))\n",
        "    for i in range(H.shape[1]):\n",
        "        for j in range(H.shape[0]):\n",
        "            H[j][i] = act1(test_x[j],a[i],b[i],act)\n",
        "\n",
        "    p = np.dot(H,W)\n",
        "    p = np.argmax(p,axis=1)\n",
        "    p = np.reshape(p,newshape=(p.shape[0],1))\n",
        "    accuracy = test_y-p\n",
        "    accuracy = np.sum((accuracy!=0).astype(int))\n",
        "    return (p.shape[0]-accuracy)/p.shape[0]\n",
        "\n",
        "l = 256\n",
        "\n",
        "\n",
        "kf = KFold(n_splits = 5)\n",
        "X = df.iloc[:, 0:7].values\n",
        "X = (X - np.mean(X, axis=0))/(np.std(X, axis=0))\n",
        "Y = df.iloc[:,7].values\n",
        "Y = np.reshape(Y, newshape=(-1,1))\n",
        "a, b = init(l, X.shape[1])\n",
        "kf.get_n_splits(X)\n",
        "fold = 0\n",
        "acctemp = 0\n",
        "overall = 0\n",
        "for train_index, test_index in kf.split(X):\n",
        "    fold+=1\n",
        "    training_data_X = X[train_index]\n",
        "    training_data_Y = Y[train_index]\n",
        "    testing_data_X = X[test_index]\n",
        "    testing_data_Y = Y[test_index]\n",
        "    acctemp = compute(l, training_data_X, testing_data_X, training_data_Y, testing_data_Y, act = \"tanh\")\n",
        "    overall+=acctemp\n",
        "    print(\"Fold: \", fold, \"Accuracy: \", acctemp)\n",
        "print(\"Overall Accuracy (tanh) : \", overall/5, '\\n')\n",
        "\n",
        "kf = KFold(n_splits=5)\n",
        "X=df.iloc[:,0:7].values\n",
        "X=(X-np.mean(X,axis=0))/(np.std(X,axis=0))\n",
        "Y=df.iloc[:,7].values\n",
        "Y=np.reshape(Y,newshape=(-1,1))\n",
        "a,b=init(l,X.shape[1])\n",
        "kf.get_n_splits(X)\n",
        "fold=0\n",
        "accuracy=0\n",
        "overall=0\n",
        "for train_index, test_index in kf.split(X):\n",
        "    fold+=1\n",
        "    training_data_X = X[train_index]\n",
        "    training_data_Y = Y[train_index]\n",
        "    testing_data_X = X[test_index]\n",
        "    testing_data_Y = Y[test_index]\n",
        "    accuracy = compute(l,training_data_X,testing_data_X,training_data_Y,testing_data_Y,\"gaussian\")\n",
        "    overall+= accuracy\n",
        "    print(\"Fold: \",fold,\" Accuracy: \", accuracy)\n",
        "print(\"Overall Accuracy (Gaussian) : \" , overall/5)"
      ],
      "metadata": {
        "colab": {
          "base_uri": "https://localhost:8080/"
        },
        "id": "lBHdx5L4BQ3k",
        "outputId": "8924e80d-6e92-4e47-b1e1-358ba7c2eaa7"
      },
      "execution_count": 16,
      "outputs": [
        {
          "output_type": "stream",
          "name": "stdout",
          "text": [
            "Fold:  1 Accuracy:  0.023809523809523808\n",
            "Fold:  2 Accuracy:  0.023809523809523808\n",
            "Fold:  3 Accuracy:  0.023809523809523808\n",
            "Fold:  4 Accuracy:  0.0\n",
            "Fold:  5 Accuracy:  0.047619047619047616\n",
            "Overall Accuracy (tanh) :  0.023809523809523808 \n",
            "\n",
            "Fold:  1  Accuracy:  0.11904761904761904\n",
            "Fold:  2  Accuracy:  0.07142857142857142\n",
            "Fold:  3  Accuracy:  0.14285714285714285\n",
            "Fold:  4  Accuracy:  0.09523809523809523\n",
            "Fold:  5  Accuracy:  0.047619047619047616\n",
            "Overall Accuracy (Gaussian) :  0.09523809523809523\n"
          ]
        }
      ]
    }
  ]
}