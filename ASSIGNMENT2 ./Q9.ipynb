{
  "nbformat": 4,
  "nbformat_minor": 0,
  "metadata": {
    "colab": {
      "name": "NNFL_A2_Q9.ipynb",
      "provenance": [],
      "collapsed_sections": []
    },
    "kernelspec": {
      "name": "python3",
      "display_name": "Python 3"
    },
    "language_info": {
      "name": "python"
    },
    "accelerator": "TPU"
  },
  "cells": [
    {
      "cell_type": "code",
      "source": [
        "from google.colab import drive\n",
        "drive.mount('/content/drive')"
      ],
      "metadata": {
        "colab": {
          "base_uri": "https://localhost:8080/",
          "height": 0
        },
        "id": "AI8r-MR39O58",
        "outputId": "b9519d45-1818-4dc0-d40b-b39bf1a96fd7"
      },
      "execution_count": 4,
      "outputs": [
        {
          "output_type": "stream",
          "name": "stdout",
          "text": [
            "Drive already mounted at /content/drive; to attempt to forcibly remount, call drive.mount(\"/content/drive\", force_remount=True).\n"
          ]
        }
      ]
    },
    {
      "cell_type": "code",
      "metadata": {
        "id": "59cYq_7S5IsF"
      },
      "source": [
        "import tensorflow as tf\n",
        "import matplotlib.pyplot as plt\n",
        "import pandas as pd\n",
        "import scipy.io\n",
        "import numpy as np\n",
        "import sklearn\n",
        "from sklearn import preprocessing\n",
        "from sklearn.model_selection import train_test_split\n"
      ],
      "execution_count": 5,
      "outputs": []
    },
    {
      "cell_type": "code",
      "metadata": {
        "id": "hmgMlMRy5Npy"
      },
      "source": [
        "input_data=scipy.io.loadmat('/content/drive/MyDrive/NNFL data/Data_A2/input.mat')\n",
        "class_label_data=scipy.io.loadmat('/content/drive/MyDrive/NNFL data/Data_A2/class_label.mat')"
      ],
      "execution_count": 3,
      "outputs": []
    },
    {
      "cell_type": "code",
      "metadata": {
        "id": "m4vWIurV_3jw",
        "colab": {
          "base_uri": "https://localhost:8080/",
          "height": 0
        },
        "outputId": "400c2af4-621f-4649-d94a-fbd173a1e634"
      },
      "source": [
        "input_data=pd.DataFrame(input_data[\"x\"]) \n",
        "#cols = input_data.select_dtypes(exclude=['float']).columns\n",
        "#input_data[cols] = input_data[cols].apply(pd.to_numeric, downcast='float', errors='coerce')\n",
        "input_data=(np.asarray(input_data)).T \n",
        "print(input_data.dtype)\n",
        "class_label_data=np.asarray(class_label_data[\"y\"])"
      ],
      "execution_count": 6,
      "outputs": [
        {
          "output_type": "stream",
          "name": "stdout",
          "text": [
            "object\n"
          ]
        }
      ]
    },
    {
      "cell_type": "code",
      "metadata": {
        "id": "FlMaBZR7AzkK",
        "colab": {
          "base_uri": "https://localhost:8080/",
          "height": 0
        },
        "outputId": "f36d5244-289b-40da-8cd7-a21b66e2635c"
      },
      "source": [
        "data_input=[]\n",
        "for i in range(len(input_data)):\n",
        "    data_input.append(input_data[i][0])\n",
        "data_input=np.asarray(data_input)\n",
        "print(data_input)\n",
        "#data_input=np.reshape(data_input, (data_input.shape[0], 1)) \n",
        "print(data_input.shape)\n",
        "data_input=data_input.transpose(0,2,1)\n",
        "for i in range(len(data_input)):\n",
        "    data_input[i]=preprocessing.normalize(data_input[i])"
      ],
      "execution_count": 7,
      "outputs": [
        {
          "output_type": "stream",
          "name": "stdout",
          "text": [
            "[[[-0.02942547 -0.03004717 -0.03063448 ... -0.00171387 -0.00150202\n",
            "   -0.00129178]\n",
            "  [-0.03354165 -0.0335658  -0.03354647 ... -0.00397835 -0.00348932\n",
            "   -0.00299711]\n",
            "  [-0.0041002  -0.00350403 -0.00289871 ... -0.0023221  -0.00203756\n",
            "   -0.00174853]\n",
            "  ...\n",
            "  [-0.01438948 -0.01302857 -0.01166126 ...  0.00079799  0.00065684\n",
            "    0.0005333 ]\n",
            "  [-0.02843199 -0.0272833  -0.02612498 ...  0.00120509  0.00103033\n",
            "    0.0008662 ]\n",
            "  [-0.00433259 -0.00382339 -0.00330092 ... -0.00397676 -0.00337576\n",
            "   -0.00281225]]\n",
            "\n",
            " [[-0.02942547 -0.03004717 -0.03063448 ... -0.00171387 -0.00150202\n",
            "   -0.00129178]\n",
            "  [-0.03354165 -0.0335658  -0.03354647 ... -0.00397835 -0.00348932\n",
            "   -0.00299711]\n",
            "  [-0.0041002  -0.00350403 -0.00289871 ... -0.0023221  -0.00203756\n",
            "   -0.00174853]\n",
            "  ...\n",
            "  [-0.01438948 -0.01302857 -0.01166126 ...  0.00079799  0.00065684\n",
            "    0.0005333 ]\n",
            "  [-0.02843199 -0.0272833  -0.02612498 ...  0.00120509  0.00103033\n",
            "    0.0008662 ]\n",
            "  [-0.03536238 -0.03581917 -0.03625893 ... -0.00944339 -0.00816656\n",
            "   -0.00691697]]\n",
            "\n",
            " [[-0.02942547 -0.03004717 -0.03063448 ... -0.00171387 -0.00150202\n",
            "   -0.00129178]\n",
            "  [-0.03354165 -0.0335658  -0.03354647 ... -0.00397835 -0.00348932\n",
            "   -0.00299711]\n",
            "  [-0.0041002  -0.00350403 -0.00289871 ... -0.0023221  -0.00203756\n",
            "   -0.00174853]\n",
            "  ...\n",
            "  [-0.01438948 -0.01302857 -0.01166126 ...  0.00079799  0.00065684\n",
            "    0.0005333 ]\n",
            "  [-0.02843199 -0.0272833  -0.02612498 ...  0.00120509  0.00103033\n",
            "    0.0008662 ]\n",
            "  [ 0.27783873  0.32234347  0.36762522 ... -0.00136926 -0.00118706\n",
            "   -0.00100843]]\n",
            "\n",
            " ...\n",
            "\n",
            " [[-0.01032181 -0.01064618 -0.01100247 ...  0.00702488  0.00598827\n",
            "    0.00500332]\n",
            "  [-0.01197618 -0.0093181  -0.00662519 ... -0.00213488 -0.00182275\n",
            "   -0.00151613]\n",
            "  [-0.00145384  0.00154284  0.0046053  ... -0.00917414 -0.00782367\n",
            "   -0.00653038]\n",
            "  ...\n",
            "  [-0.00790134 -0.01163092 -0.01536316 ... -0.00465235 -0.00402374\n",
            "   -0.00340576]\n",
            "  [-0.04150407 -0.04452396 -0.04742369 ... -0.00698926 -0.00600713\n",
            "   -0.00506403]\n",
            "  [ 0.048734    0.00342764 -0.04154496 ...  0.00630108  0.00536445\n",
            "    0.00447938]]\n",
            "\n",
            " [[-0.01032181 -0.01064618 -0.01100247 ...  0.00702488  0.00598827\n",
            "    0.00500332]\n",
            "  [-0.01197618 -0.0093181  -0.00662519 ... -0.00213488 -0.00182275\n",
            "   -0.00151613]\n",
            "  [-0.00145384  0.00154284  0.0046053  ... -0.00917414 -0.00782367\n",
            "   -0.00653038]\n",
            "  ...\n",
            "  [-0.00790134 -0.01163092 -0.01536316 ... -0.00465235 -0.00402374\n",
            "   -0.00340576]\n",
            "  [-0.04150407 -0.04452396 -0.04742369 ... -0.00698926 -0.00600713\n",
            "   -0.00506403]\n",
            "  [-0.04153452 -0.04155018 -0.04155391 ... -0.00429905 -0.00358803\n",
            "   -0.00294529]]\n",
            "\n",
            " [[-0.01032181 -0.01064618 -0.01100247 ...  0.00702488  0.00598827\n",
            "    0.00500332]\n",
            "  [-0.01197618 -0.0093181  -0.00662519 ... -0.00213488 -0.00182275\n",
            "   -0.00151613]\n",
            "  [-0.00145384  0.00154284  0.0046053  ... -0.00917414 -0.00782367\n",
            "   -0.00653038]\n",
            "  ...\n",
            "  [-0.00790134 -0.01163092 -0.01536316 ... -0.00465235 -0.00402374\n",
            "   -0.00340576]\n",
            "  [-0.04150407 -0.04452396 -0.04742369 ... -0.00698926 -0.00600713\n",
            "   -0.00506403]\n",
            "  [-0.02863395 -0.02879467 -0.02888579 ... -0.00711828 -0.00608285\n",
            "   -0.00510297]]]\n",
            "(17160, 12, 800)\n"
          ]
        }
      ]
    },
    {
      "cell_type": "code",
      "metadata": {
        "id": "bgTVLrOMJ-yr",
        "colab": {
          "base_uri": "https://localhost:8080/",
          "height": 0
        },
        "outputId": "81e71e1d-b09f-4c25-bfc3-34388874a2a8"
      },
      "source": [
        "data_input=data_input.astype(np.float)\n",
        "print(data_input)\n",
        "print(data_input.dtype)"
      ],
      "execution_count": 8,
      "outputs": [
        {
          "output_type": "stream",
          "name": "stderr",
          "text": [
            "/usr/local/lib/python3.7/dist-packages/ipykernel_launcher.py:1: DeprecationWarning: `np.float` is a deprecated alias for the builtin `float`. To silence this warning, use `float` by itself. Doing this will not modify any behavior and is safe. If you specifically wanted the numpy scalar type, use `np.float64` here.\n",
            "Deprecated in NumPy 1.20; for more details and guidance: https://numpy.org/devdocs/release/1.20.0-notes.html#deprecations\n",
            "  \"\"\"Entry point for launching an IPython kernel.\n"
          ]
        },
        {
          "output_type": "stream",
          "name": "stdout",
          "text": [
            "[[[-0.40125279 -0.45738194 -0.05591131 ... -0.19621842 -0.38770543\n",
            "   -0.05908019]\n",
            "  [-0.41160141 -0.45980145 -0.04800002 ... -0.17847202 -0.37374054\n",
            "   -0.0523747 ]\n",
            "  [-0.42141005 -0.46146759 -0.03987491 ... -0.16041305 -0.35937711\n",
            "   -0.0454077 ]\n",
            "  ...\n",
            "  [-0.19797961 -0.45956381 -0.26823974 ...  0.09218033  0.13920735\n",
            "   -0.45938054]\n",
            "  [-0.20131779 -0.46767903 -0.27309765 ...  0.08803666  0.13809689\n",
            "   -0.45245752]\n",
            "  [-0.20465272 -0.4748241  -0.27701496 ...  0.08449011  0.13722921\n",
            "   -0.44553836]]\n",
            "\n",
            " [[-0.36193933 -0.41256913 -0.0504333  ... -0.17699357 -0.3497193\n",
            "   -0.43496452]\n",
            "  [-0.36992545 -0.41324509 -0.04313987 ... -0.16040116 -0.33589812\n",
            "   -0.44098743]\n",
            "  [-0.37741609 -0.41329174 -0.03571209 ... -0.1436664  -0.32185921\n",
            "   -0.44670924]\n",
            "  ...\n",
            "  [-0.14073517 -0.3266841  -0.19068007 ...  0.06552702  0.0989565\n",
            "   -0.77544818]\n",
            "  [-0.14258944 -0.33124788 -0.19342971 ...  0.06235464  0.09781132\n",
            "   -0.77526631]\n",
            "  [-0.14462615 -0.33555373 -0.19576387 ...  0.05970837  0.0969786\n",
            "   -0.77441837]]\n",
            "\n",
            " [[-0.10241317 -0.11673922 -0.01427044 ... -0.05008152 -0.09895543\n",
            "    0.96699701]\n",
            "  [-0.09091864 -0.10156554 -0.01060272 ... -0.03942268 -0.08255555\n",
            "    0.97536734]\n",
            "  [-0.08175097 -0.08952189 -0.00773549 ... -0.03111915 -0.06971696\n",
            "    0.98104229]\n",
            "  ...\n",
            "  [-0.21943783 -0.50937412 -0.29731319 ...  0.10217139  0.15429548\n",
            "   -0.17531535]\n",
            "  [-0.22223755 -0.51627748 -0.30147635 ...  0.09718492  0.15244711\n",
            "   -0.17563637]\n",
            "  [-0.2250399  -0.52212532 -0.30461075 ...  0.09290688  0.15089977\n",
            "   -0.175679  ]]\n",
            "\n",
            " ...\n",
            "\n",
            " [[-0.13052594 -0.15144652 -0.01838474 ... -0.09991761 -0.52484585\n",
            "    0.61627302]\n",
            "  [-0.17569061 -0.1537737   0.02546104 ... -0.1919415  -0.73476545\n",
            "    0.05656528]\n",
            "  [-0.15045611 -0.09059782  0.06297628 ... -0.21008747 -0.64850726\n",
            "   -0.5681171 ]\n",
            "  ...\n",
            "  [ 0.36731449 -0.11162782 -0.47969449 ... -0.24326062 -0.3654523\n",
            "    0.32946898]\n",
            "  [ 0.36645593 -0.11154449 -0.47877475 ... -0.24623511 -0.36761029\n",
            "    0.32828095]\n",
            "  [ 0.36581428 -0.110851   -0.47746445 ... -0.24900972 -0.37025309\n",
            "    0.32750711]]\n",
            "\n",
            " [[-0.13788742 -0.15998789 -0.01942162 ... -0.10555282 -0.5544464\n",
            "   -0.55485318]\n",
            "  [-0.14505669 -0.12696128  0.02102158 ... -0.15847403 -0.60664964\n",
            "   -0.56613113]\n",
            "  [-0.15044566 -0.09059153  0.0629719  ... -0.21007287 -0.64846218\n",
            "   -0.56819996]\n",
            "  ...\n",
            "  [ 0.37845769 -0.11501427 -0.49424695 ... -0.2506404  -0.376539\n",
            "   -0.23160665]\n",
            "  [ 0.37788133 -0.11502223 -0.49370204 ... -0.25391225 -0.37907169\n",
            "   -0.22641749]\n",
            "  [ 0.377487   -0.11438814 -0.4926998  ... -0.25695534 -0.38206745\n",
            "   -0.22221465]]\n",
            "\n",
            " [[-0.15058589 -0.17472166 -0.02121021 ... -0.11527351 -0.60550706\n",
            "   -0.41774363]\n",
            "  [-0.15889321 -0.13907173  0.02302677 ... -0.17359039 -0.66451612\n",
            "   -0.42975792]\n",
            "  [-0.1648224  -0.09924855  0.06898956 ... -0.23014766 -0.71042991\n",
            "   -0.43272326]\n",
            "  ...\n",
            "  [ 0.36192892 -0.10999113 -0.4726612  ... -0.23969393 -0.36009403\n",
            "   -0.36674116]\n",
            "  [ 0.36094009 -0.10986554 -0.4715683  ... -0.24252881 -0.36207708\n",
            "   -0.36664112]\n",
            "  [ 0.36010804 -0.10912187 -0.47001661 ... -0.24512549 -0.36447761\n",
            "   -0.36728037]]]\n",
            "float64\n"
          ]
        }
      ]
    },
    {
      "cell_type": "code",
      "metadata": {
        "id": "WQjDkuknDe_N"
      },
      "source": [
        "data_class=[]\n",
        "for i in range(len(class_label_data)):\n",
        "    data_class.append(class_label_data[i][0]-1)\n",
        "data_class=np.asarray(data_class)"
      ],
      "execution_count": 9,
      "outputs": []
    },
    {
      "cell_type": "code",
      "metadata": {
        "id": "OFDHU7rHDyAS"
      },
      "source": [
        "X_train, X_test, y_train, y_test = train_test_split(data_input, data_class, test_size=0.2, random_state=5)\n",
        "X_train, X_valid, y_train, y_valid = train_test_split(X_train, y_train, test_size=0.125, random_state=5)"
      ],
      "execution_count": 10,
      "outputs": []
    },
    {
      "cell_type": "code",
      "metadata": {
        "id": "n329FXil_qLb"
      },
      "source": [
        "model=tf.keras.Sequential()\n",
        "model.add(tf.keras.layers.Conv1D(input_shape=(800,12),filters=20,kernel_size=7,padding=\"same\",activation=\"relu\"))\n",
        "model.add(tf.keras.layers.Conv1D(filters=20,kernel_size=7,padding=\"same\",activation=\"relu\"))\n",
        "model.add(tf.keras.layers.MaxPool1D(pool_size=3,strides=3))\n",
        "model.add(tf.keras.layers.Conv1D(filters=60,kernel_size=7,padding=\"same\",activation=\"relu\"))\n",
        "model.add(tf.keras.layers.Conv1D(filters=60,kernel_size=7,padding=\"same\",activation=\"relu\"))\n",
        "model.add(tf.keras.layers.MaxPool1D(pool_size=3,strides=3))\n",
        "model.add(tf.keras.layers.Dropout(0.7))\n",
        "model.add(tf.keras.layers.Conv1D(filters=120,kernel_size=7,padding=\"same\",activation=\"relu\"))\n",
        "model.add(tf.keras.layers.Conv1D(filters=120,kernel_size=7,padding=\"same\",activation=\"relu\")) \n",
        "model.add(tf.keras.layers.Flatten())\n",
        "model.add(tf.keras.layers.Dense(units=2000,activation=\"relu\")) \n",
        "model.add(tf.keras.layers.Dense(units=700,activation=\"relu\")) \n",
        "model.add(tf.keras.layers.Dense(units=50,activation=\"relu\")) \n",
        "model.add(tf.keras.layers.Dense(units=7,activation=\"sigmoid\")) \n",
        "\n",
        "\n",
        "\n",
        "\n",
        "\n"
      ],
      "execution_count": 11,
      "outputs": []
    },
    {
      "cell_type": "code",
      "metadata": {
        "id": "pXOTaVQj5lOx",
        "colab": {
          "base_uri": "https://localhost:8080/",
          "height": 0
        },
        "outputId": "92bf71ae-e2d5-4841-dc1a-aa255f927e26"
      },
      "source": [
        "model.summary()\n"
      ],
      "execution_count": 12,
      "outputs": [
        {
          "output_type": "stream",
          "name": "stdout",
          "text": [
            "Model: \"sequential\"\n",
            "_________________________________________________________________\n",
            " Layer (type)                Output Shape              Param #   \n",
            "=================================================================\n",
            " conv1d (Conv1D)             (None, 800, 20)           1700      \n",
            "                                                                 \n",
            " conv1d_1 (Conv1D)           (None, 800, 20)           2820      \n",
            "                                                                 \n",
            " max_pooling1d (MaxPooling1D  (None, 266, 20)          0         \n",
            " )                                                               \n",
            "                                                                 \n",
            " conv1d_2 (Conv1D)           (None, 266, 60)           8460      \n",
            "                                                                 \n",
            " conv1d_3 (Conv1D)           (None, 266, 60)           25260     \n",
            "                                                                 \n",
            " max_pooling1d_1 (MaxPooling  (None, 88, 60)           0         \n",
            " 1D)                                                             \n",
            "                                                                 \n",
            " dropout (Dropout)           (None, 88, 60)            0         \n",
            "                                                                 \n",
            " conv1d_4 (Conv1D)           (None, 88, 120)           50520     \n",
            "                                                                 \n",
            " conv1d_5 (Conv1D)           (None, 88, 120)           100920    \n",
            "                                                                 \n",
            " flatten (Flatten)           (None, 10560)             0         \n",
            "                                                                 \n",
            " dense (Dense)               (None, 2000)              21122000  \n",
            "                                                                 \n",
            " dense_1 (Dense)             (None, 700)               1400700   \n",
            "                                                                 \n",
            " dense_2 (Dense)             (None, 50)                35050     \n",
            "                                                                 \n",
            " dense_3 (Dense)             (None, 7)                 357       \n",
            "                                                                 \n",
            "=================================================================\n",
            "Total params: 22,747,787\n",
            "Trainable params: 22,747,787\n",
            "Non-trainable params: 0\n",
            "_________________________________________________________________\n"
          ]
        }
      ]
    },
    {
      "cell_type": "code",
      "metadata": {
        "id": "h3EWojoZ6oTR"
      },
      "source": [
        "opt=tf.keras.optimizers.Adam(learning_rate=0.001)\n",
        "model.compile(optimizer=opt,loss=tf.keras.losses.SparseCategoricalCrossentropy(),metrics=['accuracy'])"
      ],
      "execution_count": 13,
      "outputs": []
    },
    {
      "cell_type": "code",
      "metadata": {
        "id": "qZwaYXwO8o6y",
        "colab": {
          "base_uri": "https://localhost:8080/",
          "height": 0
        },
        "outputId": "561f6055-d886-4842-fa90-6a4e9d7be014"
      },
      "source": [
        "model.fit(X_train, y_train, epochs=2, batch_size=200, validation_data=(X_valid,y_valid))"
      ],
      "execution_count": 15,
      "outputs": [
        {
          "output_type": "stream",
          "name": "stdout",
          "text": [
            "Epoch 1/2\n",
            "61/61 [==============================] - 112s 2s/step - loss: 0.0047 - accuracy: 0.9988 - val_loss: 0.0039 - val_accuracy: 0.9988\n",
            "Epoch 2/2\n",
            "61/61 [==============================] - 109s 2s/step - loss: 0.0034 - accuracy: 0.9993 - val_loss: 2.1172e-04 - val_accuracy: 1.0000\n"
          ]
        },
        {
          "output_type": "execute_result",
          "data": {
            "text/plain": [
              "<keras.callbacks.History at 0x7fd40488b650>"
            ]
          },
          "metadata": {},
          "execution_count": 15
        }
      ]
    },
    {
      "cell_type": "code",
      "metadata": {
        "id": "JpRdinhAEPSy",
        "colab": {
          "base_uri": "https://localhost:8080/",
          "height": 0
        },
        "outputId": "d9979c60-917f-4aad-8fd1-38bb511473cc"
      },
      "source": [
        "model.evaluate(X_test,y_test)"
      ],
      "execution_count": 16,
      "outputs": [
        {
          "output_type": "stream",
          "name": "stdout",
          "text": [
            "108/108 [==============================] - 10s 90ms/step - loss: 0.0016 - accuracy: 0.9994\n"
          ]
        },
        {
          "output_type": "execute_result",
          "data": {
            "text/plain": [
              "[0.0015695691108703613, 0.999417245388031]"
            ]
          },
          "metadata": {},
          "execution_count": 16
        }
      ]
    },
    {
      "cell_type": "code",
      "metadata": {
        "id": "88v6UuLHRJYp"
      },
      "source": [
        "y_pred=np.argmax(model.predict(X_test), axis=-1)"
      ],
      "execution_count": 17,
      "outputs": []
    },
    {
      "cell_type": "code",
      "metadata": {
        "id": "zQ6R396-jUDR"
      },
      "source": [
        "from sklearn.metrics import classification_report,confusion_matrix"
      ],
      "execution_count": 18,
      "outputs": []
    },
    {
      "cell_type": "code",
      "metadata": {
        "id": "4VFqfcIMjY5w",
        "colab": {
          "base_uri": "https://localhost:8080/",
          "height": 0
        },
        "outputId": "4ff340a7-aadd-4144-a640-f564c1041876"
      },
      "source": [
        "confusion_m=confusion_matrix(y_test,y_pred)\n",
        "for i in range(7):\n",
        "    print(\"Accuracy for class {0}: {1}%\".format(i+1,(confusion_m.diagonal()/confusion_m.sum(axis=1))[i] *100))\n",
        "\n",
        "print(\"\\n\")\n",
        "print(confusion_m)"
      ],
      "execution_count": 19,
      "outputs": [
        {
          "output_type": "stream",
          "name": "stdout",
          "text": [
            "Accuracy for class 1: 100.0%\n",
            "Accuracy for class 2: 99.49367088607595%\n",
            "Accuracy for class 3: 97.12230215827337%\n",
            "Accuracy for class 4: 98.48484848484848%\n",
            "Accuracy for class 5: 87.44038155802862%\n",
            "Accuracy for class 6: 85.34201954397395%\n",
            "Accuracy for class 7: 100.0%\n",
            "\n",
            "\n",
            "[[567   0   0   0   0   0   0]\n",
            " [  2 393   0   0   0   0   0]\n",
            " [ 16   0 540   0   0   0   0]\n",
            " [  5   0   0 325   0   0   0]\n",
            " [ 79   0   0   0 550   0   0]\n",
            " [ 26   0  19   0  45 524   0]\n",
            " [  0   0   0   0   0   0 341]]\n"
          ]
        }
      ]
    },
    {
      "cell_type": "code",
      "metadata": {
        "id": "R1zNu4paj5tT",
        "colab": {
          "base_uri": "https://localhost:8080/",
          "height": 0
        },
        "outputId": "5cd98682-45d9-4d87-fd6b-bec58fe327e7"
      },
      "source": [
        "print(\"Number of correctly predicted class labels are: {0}\".format(np.sum(y_pred==y_test)))\n",
        "print(\"Total number of class labels are: {0}\".format(len(y_test)))\n",
        "print(\"Overall Accuracy is: {0}%\".format(np.sum(y_pred==y_test)/len(y_test)*100))"
      ],
      "execution_count": 20,
      "outputs": [
        {
          "output_type": "stream",
          "name": "stdout",
          "text": [
            "Number of correctly predicted class labels are: 3240\n",
            "Total number of class labels are: 3432\n",
            "Overall Accuracy is: 94.4055944055944%\n"
          ]
        }
      ]
    }
  ]
}